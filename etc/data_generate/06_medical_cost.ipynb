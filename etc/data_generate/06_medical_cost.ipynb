{
 "cells": [
  {
   "cell_type": "code",
   "execution_count": 1,
   "id": "0f56ce77-429d-443f-aa46-905abeb08a78",
   "metadata": {},
   "outputs": [],
   "source": [
    "import os\n",
    "import numpy as np\n",
    "import pandas as pd\n",
    "import seaborn as sns\n",
    "import matplotlib.pyplot as plt"
   ]
  },
  {
   "cell_type": "code",
   "execution_count": 2,
   "id": "456fc017-e3d8-451e-9b49-cc435a0e872a",
   "metadata": {},
   "outputs": [],
   "source": [
    "DATA_PATH = os.path.join('data')\n",
    "INPUT_CSV = os.path.join(DATA_PATH,'input','medical_cost','Medical_Cost.csv')\n",
    "OUTPUT_CSV = os.path.join(DATA_PATH,'output','medical_cost_with_missing.csv')\n",
    "Y_COLUMN = 'charges'\n",
    "NAN_COLUMN = 'smoker'\n",
    "NAN_RATE = 0.005"
   ]
  },
  {
   "cell_type": "code",
   "execution_count": 3,
   "id": "35e219fa-0fce-46a8-8a5f-5004e7b918f4",
   "metadata": {},
   "outputs": [
    {
     "data": {
      "text/html": [
       "<div>\n",
       "<style scoped>\n",
       "    .dataframe tbody tr th:only-of-type {\n",
       "        vertical-align: middle;\n",
       "    }\n",
       "\n",
       "    .dataframe tbody tr th {\n",
       "        vertical-align: top;\n",
       "    }\n",
       "\n",
       "    .dataframe thead th {\n",
       "        text-align: right;\n",
       "    }\n",
       "</style>\n",
       "<table border=\"1\" class=\"dataframe\">\n",
       "  <thead>\n",
       "    <tr style=\"text-align: right;\">\n",
       "      <th></th>\n",
       "      <th>age</th>\n",
       "      <th>sex</th>\n",
       "      <th>bmi</th>\n",
       "      <th>children</th>\n",
       "      <th>smoker</th>\n",
       "      <th>region</th>\n",
       "      <th>charges</th>\n",
       "    </tr>\n",
       "  </thead>\n",
       "  <tbody>\n",
       "    <tr>\n",
       "      <th>0</th>\n",
       "      <td>19</td>\n",
       "      <td>female</td>\n",
       "      <td>27.900</td>\n",
       "      <td>0</td>\n",
       "      <td>yes</td>\n",
       "      <td>southwest</td>\n",
       "      <td>16884.92400</td>\n",
       "    </tr>\n",
       "    <tr>\n",
       "      <th>1</th>\n",
       "      <td>18</td>\n",
       "      <td>male</td>\n",
       "      <td>33.770</td>\n",
       "      <td>1</td>\n",
       "      <td>no</td>\n",
       "      <td>southeast</td>\n",
       "      <td>1725.55230</td>\n",
       "    </tr>\n",
       "    <tr>\n",
       "      <th>2</th>\n",
       "      <td>28</td>\n",
       "      <td>male</td>\n",
       "      <td>33.000</td>\n",
       "      <td>3</td>\n",
       "      <td>no</td>\n",
       "      <td>southeast</td>\n",
       "      <td>4449.46200</td>\n",
       "    </tr>\n",
       "    <tr>\n",
       "      <th>3</th>\n",
       "      <td>33</td>\n",
       "      <td>male</td>\n",
       "      <td>22.705</td>\n",
       "      <td>0</td>\n",
       "      <td>no</td>\n",
       "      <td>northwest</td>\n",
       "      <td>21984.47061</td>\n",
       "    </tr>\n",
       "    <tr>\n",
       "      <th>4</th>\n",
       "      <td>32</td>\n",
       "      <td>male</td>\n",
       "      <td>28.880</td>\n",
       "      <td>0</td>\n",
       "      <td>no</td>\n",
       "      <td>northwest</td>\n",
       "      <td>3866.85520</td>\n",
       "    </tr>\n",
       "    <tr>\n",
       "      <th>1333</th>\n",
       "      <td>50</td>\n",
       "      <td>male</td>\n",
       "      <td>30.970</td>\n",
       "      <td>3</td>\n",
       "      <td>no</td>\n",
       "      <td>northwest</td>\n",
       "      <td>10600.54830</td>\n",
       "    </tr>\n",
       "    <tr>\n",
       "      <th>1334</th>\n",
       "      <td>18</td>\n",
       "      <td>female</td>\n",
       "      <td>31.920</td>\n",
       "      <td>0</td>\n",
       "      <td>no</td>\n",
       "      <td>northeast</td>\n",
       "      <td>2205.98080</td>\n",
       "    </tr>\n",
       "    <tr>\n",
       "      <th>1335</th>\n",
       "      <td>18</td>\n",
       "      <td>female</td>\n",
       "      <td>36.850</td>\n",
       "      <td>0</td>\n",
       "      <td>no</td>\n",
       "      <td>southeast</td>\n",
       "      <td>1629.83350</td>\n",
       "    </tr>\n",
       "    <tr>\n",
       "      <th>1336</th>\n",
       "      <td>21</td>\n",
       "      <td>female</td>\n",
       "      <td>25.800</td>\n",
       "      <td>0</td>\n",
       "      <td>no</td>\n",
       "      <td>southwest</td>\n",
       "      <td>2007.94500</td>\n",
       "    </tr>\n",
       "    <tr>\n",
       "      <th>1337</th>\n",
       "      <td>61</td>\n",
       "      <td>female</td>\n",
       "      <td>29.070</td>\n",
       "      <td>0</td>\n",
       "      <td>yes</td>\n",
       "      <td>northwest</td>\n",
       "      <td>29141.36030</td>\n",
       "    </tr>\n",
       "  </tbody>\n",
       "</table>\n",
       "</div>"
      ],
      "text/plain": [
       "      age     sex     bmi  children smoker     region      charges\n",
       "0      19  female  27.900         0    yes  southwest  16884.92400\n",
       "1      18    male  33.770         1     no  southeast   1725.55230\n",
       "2      28    male  33.000         3     no  southeast   4449.46200\n",
       "3      33    male  22.705         0     no  northwest  21984.47061\n",
       "4      32    male  28.880         0     no  northwest   3866.85520\n",
       "1333   50    male  30.970         3     no  northwest  10600.54830\n",
       "1334   18  female  31.920         0     no  northeast   2205.98080\n",
       "1335   18  female  36.850         0     no  southeast   1629.83350\n",
       "1336   21  female  25.800         0     no  southwest   2007.94500\n",
       "1337   61  female  29.070         0    yes  northwest  29141.36030"
      ]
     },
     "execution_count": 3,
     "metadata": {},
     "output_type": "execute_result"
    }
   ],
   "source": [
    "df_medical = pd.read_csv(INPUT_CSV, index_col=None)\n",
    "pd.concat([df_medical.head(),df_medical.tail()])"
   ]
  },
  {
   "cell_type": "code",
   "execution_count": 4,
   "id": "dd4ce9a8-be30-4732-8924-633b4fa9554d",
   "metadata": {},
   "outputs": [],
   "source": [
    "# 特定カラムにのみ一定数の欠損値を追加\n",
    "df_medical2 = df_medical.copy()\n",
    "mask = np.random.rand(len(df_medical2)) < NAN_RATE\n",
    "df_medical2.loc[mask, NAN_COLUMN] = np.nan"
   ]
  },
  {
   "cell_type": "code",
   "execution_count": 5,
   "id": "98a193ef-143f-4ce2-81b2-17e7ffd9e9e9",
   "metadata": {},
   "outputs": [
    {
     "name": "stdout",
     "output_type": "stream",
     "text": [
      "<class 'pandas.core.frame.DataFrame'>\n",
      "RangeIndex: 1338 entries, 0 to 1337\n",
      "Data columns (total 7 columns):\n",
      " #   Column    Non-Null Count  Dtype  \n",
      "---  ------    --------------  -----  \n",
      " 0   age       1338 non-null   int64  \n",
      " 1   sex       1338 non-null   object \n",
      " 2   bmi       1338 non-null   float64\n",
      " 3   children  1338 non-null   int64  \n",
      " 4   smoker    1334 non-null   object \n",
      " 5   region    1338 non-null   object \n",
      " 6   charges   1338 non-null   float64\n",
      "dtypes: float64(2), int64(2), object(3)\n",
      "memory usage: 73.3+ KB\n"
     ]
    }
   ],
   "source": [
    "df_medical2.info()"
   ]
  },
  {
   "cell_type": "code",
   "execution_count": 6,
   "id": "7b7ada46-5016-485c-a2bb-a47e1f9107af",
   "metadata": {},
   "outputs": [
    {
     "name": "stdout",
     "output_type": "stream",
     "text": [
      "sex\n",
      "male      676\n",
      "female    662\n",
      "Name: count, dtype: int64\n",
      "smoker\n",
      "no     1061\n",
      "yes     273\n",
      "Name: count, dtype: int64\n",
      "region\n",
      "southeast    364\n",
      "northwest    325\n",
      "southwest    325\n",
      "northeast    324\n",
      "Name: count, dtype: int64\n"
     ]
    }
   ],
   "source": [
    "# カテゴリカル変数の設定\n",
    "for category_column in ['sex','smoker','region']:\n",
    "    df_medical2[category_column] = df_medical2[category_column].astype('category')\n",
    "    print(df_medical2[category_column].value_counts())"
   ]
  },
  {
   "cell_type": "code",
   "execution_count": 7,
   "id": "b01da359-eb1b-4c16-bff7-78914ecd57ec",
   "metadata": {},
   "outputs": [
    {
     "name": "stdout",
     "output_type": "stream",
     "text": [
      "<class 'pandas.core.frame.DataFrame'>\n",
      "RangeIndex: 1338 entries, 0 to 1337\n",
      "Data columns (total 7 columns):\n",
      " #   Column    Non-Null Count  Dtype   \n",
      "---  ------    --------------  -----   \n",
      " 0   age       1338 non-null   int64   \n",
      " 1   sex       1338 non-null   category\n",
      " 2   bmi       1338 non-null   float64 \n",
      " 3   children  1338 non-null   int64   \n",
      " 4   smoker    1334 non-null   category\n",
      " 5   region    1338 non-null   category\n",
      " 6   charges   1338 non-null   float64 \n",
      "dtypes: category(3), float64(2), int64(2)\n",
      "memory usage: 46.3 KB\n"
     ]
    }
   ],
   "source": [
    "df_medical2.info()"
   ]
  },
  {
   "cell_type": "code",
   "execution_count": 8,
   "id": "13fe32c2-4e8c-47fb-8ef7-bb4efbd055b5",
   "metadata": {},
   "outputs": [
    {
     "data": {
      "text/plain": [
       "age         0\n",
       "sex         0\n",
       "bmi         0\n",
       "children    0\n",
       "smoker      4\n",
       "region      0\n",
       "charges     0\n",
       "dtype: int64"
      ]
     },
     "execution_count": 8,
     "metadata": {},
     "output_type": "execute_result"
    }
   ],
   "source": [
    "df_medical2.isna().sum()"
   ]
  },
  {
   "cell_type": "code",
   "execution_count": 9,
   "id": "a520d720-4cb5-44ed-b69c-59bbadd592ba",
   "metadata": {},
   "outputs": [],
   "source": [
    "# データの保存（オプション）\n",
    "df_medical2.to_csv(OUTPUT_CSV)"
   ]
  },
  {
   "cell_type": "code",
   "execution_count": 10,
   "id": "027bb1b7-1a54-4ba0-982b-a113012788af",
   "metadata": {},
   "outputs": [
    {
     "data": {
      "text/plain": [
       "['age', 'sex', 'bmi', 'children', 'smoker', 'region', 'charges']"
      ]
     },
     "execution_count": 10,
     "metadata": {},
     "output_type": "execute_result"
    }
   ],
   "source": [
    "df_medical2.columns.to_list()"
   ]
  },
  {
   "cell_type": "code",
   "execution_count": 11,
   "id": "df370ece-e3fc-4b5d-953f-82049017b004",
   "metadata": {},
   "outputs": [
    {
     "data": {
      "text/html": [
       "<div>\n",
       "<style scoped>\n",
       "    .dataframe tbody tr th:only-of-type {\n",
       "        vertical-align: middle;\n",
       "    }\n",
       "\n",
       "    .dataframe tbody tr th {\n",
       "        vertical-align: top;\n",
       "    }\n",
       "\n",
       "    .dataframe thead th {\n",
       "        text-align: right;\n",
       "    }\n",
       "</style>\n",
       "<table border=\"1\" class=\"dataframe\">\n",
       "  <thead>\n",
       "    <tr style=\"text-align: right;\">\n",
       "      <th></th>\n",
       "      <th>age</th>\n",
       "      <th>sex</th>\n",
       "      <th>bmi</th>\n",
       "      <th>children</th>\n",
       "      <th>smoker</th>\n",
       "      <th>region</th>\n",
       "      <th>charges</th>\n",
       "    </tr>\n",
       "  </thead>\n",
       "  <tbody>\n",
       "    <tr>\n",
       "      <th>0</th>\n",
       "      <td>19</td>\n",
       "      <td>female</td>\n",
       "      <td>27.900</td>\n",
       "      <td>0</td>\n",
       "      <td>yes</td>\n",
       "      <td>southwest</td>\n",
       "      <td>16884.92400</td>\n",
       "    </tr>\n",
       "    <tr>\n",
       "      <th>1</th>\n",
       "      <td>18</td>\n",
       "      <td>male</td>\n",
       "      <td>33.770</td>\n",
       "      <td>1</td>\n",
       "      <td>no</td>\n",
       "      <td>southeast</td>\n",
       "      <td>1725.55230</td>\n",
       "    </tr>\n",
       "    <tr>\n",
       "      <th>2</th>\n",
       "      <td>28</td>\n",
       "      <td>male</td>\n",
       "      <td>33.000</td>\n",
       "      <td>3</td>\n",
       "      <td>no</td>\n",
       "      <td>southeast</td>\n",
       "      <td>4449.46200</td>\n",
       "    </tr>\n",
       "    <tr>\n",
       "      <th>3</th>\n",
       "      <td>33</td>\n",
       "      <td>male</td>\n",
       "      <td>22.705</td>\n",
       "      <td>0</td>\n",
       "      <td>no</td>\n",
       "      <td>northwest</td>\n",
       "      <td>21984.47061</td>\n",
       "    </tr>\n",
       "    <tr>\n",
       "      <th>4</th>\n",
       "      <td>32</td>\n",
       "      <td>male</td>\n",
       "      <td>28.880</td>\n",
       "      <td>0</td>\n",
       "      <td>no</td>\n",
       "      <td>northwest</td>\n",
       "      <td>3866.85520</td>\n",
       "    </tr>\n",
       "    <tr>\n",
       "      <th>1333</th>\n",
       "      <td>50</td>\n",
       "      <td>male</td>\n",
       "      <td>30.970</td>\n",
       "      <td>3</td>\n",
       "      <td>no</td>\n",
       "      <td>northwest</td>\n",
       "      <td>10600.54830</td>\n",
       "    </tr>\n",
       "    <tr>\n",
       "      <th>1334</th>\n",
       "      <td>18</td>\n",
       "      <td>female</td>\n",
       "      <td>31.920</td>\n",
       "      <td>0</td>\n",
       "      <td>no</td>\n",
       "      <td>northeast</td>\n",
       "      <td>2205.98080</td>\n",
       "    </tr>\n",
       "    <tr>\n",
       "      <th>1335</th>\n",
       "      <td>18</td>\n",
       "      <td>female</td>\n",
       "      <td>36.850</td>\n",
       "      <td>0</td>\n",
       "      <td>no</td>\n",
       "      <td>southeast</td>\n",
       "      <td>1629.83350</td>\n",
       "    </tr>\n",
       "    <tr>\n",
       "      <th>1336</th>\n",
       "      <td>21</td>\n",
       "      <td>female</td>\n",
       "      <td>25.800</td>\n",
       "      <td>0</td>\n",
       "      <td>no</td>\n",
       "      <td>southwest</td>\n",
       "      <td>2007.94500</td>\n",
       "    </tr>\n",
       "    <tr>\n",
       "      <th>1337</th>\n",
       "      <td>61</td>\n",
       "      <td>female</td>\n",
       "      <td>29.070</td>\n",
       "      <td>0</td>\n",
       "      <td>yes</td>\n",
       "      <td>northwest</td>\n",
       "      <td>29141.36030</td>\n",
       "    </tr>\n",
       "  </tbody>\n",
       "</table>\n",
       "</div>"
      ],
      "text/plain": [
       "      age     sex     bmi  children smoker     region      charges\n",
       "0      19  female  27.900         0    yes  southwest  16884.92400\n",
       "1      18    male  33.770         1     no  southeast   1725.55230\n",
       "2      28    male  33.000         3     no  southeast   4449.46200\n",
       "3      33    male  22.705         0     no  northwest  21984.47061\n",
       "4      32    male  28.880         0     no  northwest   3866.85520\n",
       "1333   50    male  30.970         3     no  northwest  10600.54830\n",
       "1334   18  female  31.920         0     no  northeast   2205.98080\n",
       "1335   18  female  36.850         0     no  southeast   1629.83350\n",
       "1336   21  female  25.800         0     no  southwest   2007.94500\n",
       "1337   61  female  29.070         0    yes  northwest  29141.36030"
      ]
     },
     "execution_count": 11,
     "metadata": {},
     "output_type": "execute_result"
    }
   ],
   "source": [
    "df_medical3 = df_medical2.dropna(how='any')\n",
    "pd.concat([df_medical3.head(),df_medical3.tail()])"
   ]
  },
  {
   "cell_type": "code",
   "execution_count": 12,
   "id": "16b72884-112e-4903-ab37-43f0ed5eb433",
   "metadata": {},
   "outputs": [
    {
     "name": "stdout",
     "output_type": "stream",
     "text": [
      "<class 'pandas.core.frame.DataFrame'>\n",
      "Index: 1334 entries, 0 to 1337\n",
      "Data columns (total 7 columns):\n",
      " #   Column    Non-Null Count  Dtype   \n",
      "---  ------    --------------  -----   \n",
      " 0   age       1334 non-null   int64   \n",
      " 1   sex       1334 non-null   category\n",
      " 2   bmi       1334 non-null   float64 \n",
      " 3   children  1334 non-null   int64   \n",
      " 4   smoker    1334 non-null   category\n",
      " 5   region    1334 non-null   category\n",
      " 6   charges   1334 non-null   float64 \n",
      "dtypes: category(3), float64(2), int64(2)\n",
      "memory usage: 56.5 KB\n"
     ]
    }
   ],
   "source": [
    "df_medical3.info()"
   ]
  },
  {
   "cell_type": "code",
   "execution_count": 13,
   "id": "36a5cf05-8953-463e-843e-a5c68805dae9",
   "metadata": {},
   "outputs": [
    {
     "data": {
      "text/html": [
       "<div>\n",
       "<style scoped>\n",
       "    .dataframe tbody tr th:only-of-type {\n",
       "        vertical-align: middle;\n",
       "    }\n",
       "\n",
       "    .dataframe tbody tr th {\n",
       "        vertical-align: top;\n",
       "    }\n",
       "\n",
       "    .dataframe thead th {\n",
       "        text-align: right;\n",
       "    }\n",
       "</style>\n",
       "<table border=\"1\" class=\"dataframe\">\n",
       "  <thead>\n",
       "    <tr style=\"text-align: right;\">\n",
       "      <th></th>\n",
       "      <th>age</th>\n",
       "      <th>bmi</th>\n",
       "      <th>children</th>\n",
       "      <th>charges</th>\n",
       "    </tr>\n",
       "  </thead>\n",
       "  <tbody>\n",
       "    <tr>\n",
       "      <th>count</th>\n",
       "      <td>1334.000000</td>\n",
       "      <td>1334.000000</td>\n",
       "      <td>1334.000000</td>\n",
       "      <td>1334.000000</td>\n",
       "    </tr>\n",
       "    <tr>\n",
       "      <th>mean</th>\n",
       "      <td>39.228636</td>\n",
       "      <td>30.665109</td>\n",
       "      <td>1.090705</td>\n",
       "      <td>13270.782876</td>\n",
       "    </tr>\n",
       "    <tr>\n",
       "      <th>std</th>\n",
       "      <td>14.054637</td>\n",
       "      <td>6.106194</td>\n",
       "      <td>1.201407</td>\n",
       "      <td>12122.445726</td>\n",
       "    </tr>\n",
       "    <tr>\n",
       "      <th>min</th>\n",
       "      <td>18.000000</td>\n",
       "      <td>15.960000</td>\n",
       "      <td>0.000000</td>\n",
       "      <td>1121.873900</td>\n",
       "    </tr>\n",
       "    <tr>\n",
       "      <th>25%</th>\n",
       "      <td>27.000000</td>\n",
       "      <td>26.237500</td>\n",
       "      <td>0.000000</td>\n",
       "      <td>4740.287150</td>\n",
       "    </tr>\n",
       "    <tr>\n",
       "      <th>50%</th>\n",
       "      <td>39.000000</td>\n",
       "      <td>30.400000</td>\n",
       "      <td>1.000000</td>\n",
       "      <td>9382.033000</td>\n",
       "    </tr>\n",
       "    <tr>\n",
       "      <th>75%</th>\n",
       "      <td>51.000000</td>\n",
       "      <td>34.700000</td>\n",
       "      <td>2.000000</td>\n",
       "      <td>16584.318157</td>\n",
       "    </tr>\n",
       "    <tr>\n",
       "      <th>max</th>\n",
       "      <td>64.000000</td>\n",
       "      <td>53.130000</td>\n",
       "      <td>5.000000</td>\n",
       "      <td>63770.428010</td>\n",
       "    </tr>\n",
       "  </tbody>\n",
       "</table>\n",
       "</div>"
      ],
      "text/plain": [
       "               age          bmi     children       charges\n",
       "count  1334.000000  1334.000000  1334.000000   1334.000000\n",
       "mean     39.228636    30.665109     1.090705  13270.782876\n",
       "std      14.054637     6.106194     1.201407  12122.445726\n",
       "min      18.000000    15.960000     0.000000   1121.873900\n",
       "25%      27.000000    26.237500     0.000000   4740.287150\n",
       "50%      39.000000    30.400000     1.000000   9382.033000\n",
       "75%      51.000000    34.700000     2.000000  16584.318157\n",
       "max      64.000000    53.130000     5.000000  63770.428010"
      ]
     },
     "execution_count": 13,
     "metadata": {},
     "output_type": "execute_result"
    }
   ],
   "source": [
    "df_medical3.describe()"
   ]
  },
  {
   "cell_type": "code",
   "execution_count": 14,
   "id": "81f0fd94-5277-4362-bbaf-cf3fa777fa97",
   "metadata": {},
   "outputs": [
    {
     "name": "stdout",
     "output_type": "stream",
     "text": [
      "['sex', 'smoker', 'region']\n"
     ]
    },
    {
     "data": {
      "text/html": [
       "<div>\n",
       "<style scoped>\n",
       "    .dataframe tbody tr th:only-of-type {\n",
       "        vertical-align: middle;\n",
       "    }\n",
       "\n",
       "    .dataframe tbody tr th {\n",
       "        vertical-align: top;\n",
       "    }\n",
       "\n",
       "    .dataframe thead th {\n",
       "        text-align: right;\n",
       "    }\n",
       "</style>\n",
       "<table border=\"1\" class=\"dataframe\">\n",
       "  <thead>\n",
       "    <tr style=\"text-align: right;\">\n",
       "      <th></th>\n",
       "      <th>age</th>\n",
       "      <th>sex</th>\n",
       "      <th>bmi</th>\n",
       "      <th>children</th>\n",
       "      <th>smoker</th>\n",
       "      <th>region</th>\n",
       "    </tr>\n",
       "  </thead>\n",
       "  <tbody>\n",
       "    <tr>\n",
       "      <th>0</th>\n",
       "      <td>19</td>\n",
       "      <td>0</td>\n",
       "      <td>27.900</td>\n",
       "      <td>0</td>\n",
       "      <td>1</td>\n",
       "      <td>3</td>\n",
       "    </tr>\n",
       "    <tr>\n",
       "      <th>1</th>\n",
       "      <td>18</td>\n",
       "      <td>1</td>\n",
       "      <td>33.770</td>\n",
       "      <td>1</td>\n",
       "      <td>0</td>\n",
       "      <td>2</td>\n",
       "    </tr>\n",
       "    <tr>\n",
       "      <th>2</th>\n",
       "      <td>28</td>\n",
       "      <td>1</td>\n",
       "      <td>33.000</td>\n",
       "      <td>3</td>\n",
       "      <td>0</td>\n",
       "      <td>2</td>\n",
       "    </tr>\n",
       "    <tr>\n",
       "      <th>3</th>\n",
       "      <td>33</td>\n",
       "      <td>1</td>\n",
       "      <td>22.705</td>\n",
       "      <td>0</td>\n",
       "      <td>0</td>\n",
       "      <td>1</td>\n",
       "    </tr>\n",
       "    <tr>\n",
       "      <th>4</th>\n",
       "      <td>32</td>\n",
       "      <td>1</td>\n",
       "      <td>28.880</td>\n",
       "      <td>0</td>\n",
       "      <td>0</td>\n",
       "      <td>1</td>\n",
       "    </tr>\n",
       "    <tr>\n",
       "      <th>...</th>\n",
       "      <td>...</td>\n",
       "      <td>...</td>\n",
       "      <td>...</td>\n",
       "      <td>...</td>\n",
       "      <td>...</td>\n",
       "      <td>...</td>\n",
       "    </tr>\n",
       "    <tr>\n",
       "      <th>1333</th>\n",
       "      <td>50</td>\n",
       "      <td>1</td>\n",
       "      <td>30.970</td>\n",
       "      <td>3</td>\n",
       "      <td>0</td>\n",
       "      <td>1</td>\n",
       "    </tr>\n",
       "    <tr>\n",
       "      <th>1334</th>\n",
       "      <td>18</td>\n",
       "      <td>0</td>\n",
       "      <td>31.920</td>\n",
       "      <td>0</td>\n",
       "      <td>0</td>\n",
       "      <td>0</td>\n",
       "    </tr>\n",
       "    <tr>\n",
       "      <th>1335</th>\n",
       "      <td>18</td>\n",
       "      <td>0</td>\n",
       "      <td>36.850</td>\n",
       "      <td>0</td>\n",
       "      <td>0</td>\n",
       "      <td>2</td>\n",
       "    </tr>\n",
       "    <tr>\n",
       "      <th>1336</th>\n",
       "      <td>21</td>\n",
       "      <td>0</td>\n",
       "      <td>25.800</td>\n",
       "      <td>0</td>\n",
       "      <td>0</td>\n",
       "      <td>3</td>\n",
       "    </tr>\n",
       "    <tr>\n",
       "      <th>1337</th>\n",
       "      <td>61</td>\n",
       "      <td>0</td>\n",
       "      <td>29.070</td>\n",
       "      <td>0</td>\n",
       "      <td>1</td>\n",
       "      <td>1</td>\n",
       "    </tr>\n",
       "  </tbody>\n",
       "</table>\n",
       "<p>1334 rows × 6 columns</p>\n",
       "</div>"
      ],
      "text/plain": [
       "      age sex     bmi  children smoker region\n",
       "0      19   0  27.900         0      1      3\n",
       "1      18   1  33.770         1      0      2\n",
       "2      28   1  33.000         3      0      2\n",
       "3      33   1  22.705         0      0      1\n",
       "4      32   1  28.880         0      0      1\n",
       "...   ...  ..     ...       ...    ...    ...\n",
       "1333   50   1  30.970         3      0      1\n",
       "1334   18   0  31.920         0      0      0\n",
       "1335   18   0  36.850         0      0      2\n",
       "1336   21   0  25.800         0      0      3\n",
       "1337   61   0  29.070         0      1      1\n",
       "\n",
       "[1334 rows x 6 columns]"
      ]
     },
     "execution_count": 14,
     "metadata": {},
     "output_type": "execute_result"
    }
   ],
   "source": [
    "from sklearn.ensemble import RandomForestRegressor\n",
    "from sklearn.model_selection import train_test_split\n",
    "from sklearn.metrics import r2_score\n",
    "from sklearn.preprocessing import LabelEncoder\n",
    "\n",
    "X = df_medical3.iloc[:, :-1]\n",
    "y = df_medical3.iloc[:, -1]\n",
    "\n",
    "categories = X.columns[X.dtypes == 'category'].tolist()\n",
    "print(categories)\n",
    "\n",
    "for cat in categories:\n",
    "    le = LabelEncoder()\n",
    "    le = le.fit(X[cat])\n",
    "    X[cat] = le.transform(X[cat])\n",
    "    X[cat] = X[cat].astype('category')\n",
    "\n",
    "X"
   ]
  },
  {
   "cell_type": "code",
   "execution_count": 15,
   "id": "f010a044-e9e2-438f-bdd0-a3078b2cd4dc",
   "metadata": {},
   "outputs": [
    {
     "name": "stdout",
     "output_type": "stream",
     "text": [
      "0.8697018160638081\n"
     ]
    }
   ],
   "source": [
    "X_train, X_test, y_train, y_test = train_test_split(X, y, test_size=0.2, random_state=42)\n",
    "\n",
    "rf_model = RandomForestRegressor(max_depth=5)\n",
    "rf_model.fit(X_train, y_train)\n",
    "y_pred = rf_model.predict(X_test)\n",
    "\n",
    "#print(y_pred)\n",
    "print(r2_score(y_test, y_pred))"
   ]
  },
  {
   "cell_type": "code",
   "execution_count": 16,
   "id": "171d6631-378f-4a71-b75d-9d0cb0f0045e",
   "metadata": {},
   "outputs": [
    {
     "data": {
      "text/plain": [
       "902      4661.28635\n",
       "1066     8978.18510\n",
       "1256    11436.73815\n",
       "299      9249.49520\n",
       "238     17352.68030\n",
       "Name: charges, dtype: float64"
      ]
     },
     "execution_count": 16,
     "metadata": {},
     "output_type": "execute_result"
    }
   ],
   "source": [
    "y_test.head()"
   ]
  },
  {
   "cell_type": "code",
   "execution_count": 17,
   "id": "eb24e6d3-764c-41bb-9231-a19625ca5cc9",
   "metadata": {},
   "outputs": [
    {
     "data": {
      "text/plain": [
       "array([ 7490.25088795, 11424.93451913, 12093.59368443, 11532.20963895,\n",
       "       19577.91313085, 11367.85095815,  8546.02876792, 15690.71140815,\n",
       "       19167.32720641,  7624.86055561,  8106.46716979, 14242.05294777,\n",
       "       41439.2954625 ,  4130.22151798, 15561.39853964, 38245.26307068,\n",
       "        7830.99066482,  2581.16162462,  4130.22151798,  2505.11673597,\n",
       "       12116.28056359,  7062.03994438, 10673.73404911,  9655.17740174,\n",
       "        8848.34941185, 26732.59636071,  7777.01304723, 12216.4020932 ,\n",
       "        7482.12291761, 11847.44072647, 43370.46997236,  6097.52047999,\n",
       "       11578.10193188,  7962.27708641,  5194.71596124, 19410.12995577,\n",
       "       14439.86598983, 34696.95394426,  7243.79638068,  5039.71565283,\n",
       "        6583.45870063,  2694.62672884, 10311.45260392,  6458.22382894,\n",
       "       10781.39809479, 22240.85130727, 14773.84230089, 13707.2202773 ,\n",
       "       17748.44974985, 11620.71206092, 13798.47439233, 12608.99323406,\n",
       "        2347.98460496, 19722.45068947,  6594.26879046, 44279.9583943 ,\n",
       "        6241.64006724,  9497.21082599,  6482.42779425,  4562.26119681,\n",
       "        6313.89680113, 18854.74189772, 10358.86902367,  2333.84653807,\n",
       "       39126.4761742 , 14326.28745023, 11713.21030764,  4211.1259437 ,\n",
       "       24330.38142633,  2386.87978196,  2509.37747984, 25130.21713075,\n",
       "       17556.16757703,  6605.97781751, 12112.4406519 ,  5631.74553342,\n",
       "        5996.26080628,  6106.64229369, 14141.51034814, 12405.07070287,\n",
       "       11941.60050799, 41176.39342444, 13748.59996455,  7256.01839941,\n",
       "       11883.79395855,  7770.59183184,  2509.37747984, 40914.52865273,\n",
       "        3591.90111542,  2433.48921621, 14608.48518752, 18356.96896345,\n",
       "        4174.07422269,  2448.69691099, 17824.99273201,  7794.33408008,\n",
       "        6496.67021712,  3559.44187079,  6876.1257431 , 27233.22820945,\n",
       "        9825.62790159, 11784.65358323,  6791.75402405,  8779.25332893,\n",
       "       12112.50206362,  9987.9447964 , 40306.88203298,  9191.68799447,\n",
       "        7388.13937752,  9444.30718583,  8022.62615139, 11962.42240458,\n",
       "       13182.13289246, 12057.98208494, 26566.46311636,  3696.52778846,\n",
       "        8162.38879011,  2304.41108368, 12202.3238261 ,  3707.83198413,\n",
       "       15478.38695231,  8574.89045532, 37342.10354493, 38455.33546372,\n",
       "       16945.43986893, 15951.7621652 ,  8935.25416085, 14830.89008422,\n",
       "       15703.83402509,  7047.41696135,  6065.37395162, 37512.99682695,\n",
       "       13183.02944201,  8962.21810793, 11563.03671691, 43759.05371336,\n",
       "        3512.29904746,  5848.27843012,  7432.40201598,  9433.42529377,\n",
       "        7017.86331421,  8796.73832245, 14561.061424  , 19351.09989465,\n",
       "        2515.95791449,  9274.72211137, 44349.63803507,  2491.45635517,\n",
       "       25356.3484667 , 21366.42332261,  9020.83353279, 27272.52610871,\n",
       "        3668.76265203,  5076.59281865,  7473.23761388,  5460.74440011,\n",
       "       13540.41454877, 14521.59844343, 14310.89439541, 12008.54062232,\n",
       "        6244.41658173, 14886.71707876,  2442.37933676, 26884.46330289,\n",
       "       12171.00982417, 10700.25583979, 18300.34354142, 24468.73611912,\n",
       "        7775.03453213, 14525.38769622,  5964.66584258, 12227.51814187,\n",
       "       14467.65607204,  6643.94069112,  2650.32698047,  7013.82683492,\n",
       "       11694.74114384, 10636.9036416 , 17541.12552458,  8392.35538086,\n",
       "       13458.25805432, 47503.64028431,  4608.52415476,  4525.11468597,\n",
       "        7144.12705587,  8474.17587972, 16947.81031247, 15001.68537541,\n",
       "        7247.79216199, 44135.92879266,  5723.48721269, 14631.56371486,\n",
       "        5809.18487397, 14808.12759188,  2462.92467061,  2641.43685992,\n",
       "       11267.94102809,  5533.02377522,  3785.19522323, 18924.16509493,\n",
       "       12518.41706603,  9017.64355906,  2565.5485963 , 10905.13153752,\n",
       "       45537.61508649, 11949.51790998, 10794.98115589,  2694.62672884,\n",
       "        6424.93432498, 26075.74683729, 24924.07054282,  9664.4797881 ,\n",
       "       40169.78635606,  8779.39618824, 40690.26893824,  9489.0735012 ,\n",
       "       14042.35034201, 24507.57081631, 17501.27276861,  6831.57087554,\n",
       "        4674.32373571, 19584.38465868, 14446.08069005, 10896.96358662,\n",
       "       10894.77228147, 40379.49861876, 14901.52739455, 14536.54225498,\n",
       "        4958.48048274,  6022.75305426, 14294.98095069, 12475.27195599,\n",
       "        4536.27379359,  2509.37747984,  5964.66584258,  3708.30579661,\n",
       "       44200.61026159, 10374.32142461, 40733.18082492,  3591.90111542,\n",
       "        5638.00621806,  3747.74825454, 39173.6597333 ,  6530.90326668,\n",
       "       13540.41454877, 16231.02635135,  4804.80000551, 27505.27805918,\n",
       "        2265.35928166,  6592.99275103,  8321.23864984, 35267.24045277,\n",
       "       39891.25857626, 35017.27996017, 13545.85824899, 14750.9096871 ,\n",
       "       35517.64128982,  6112.3163012 , 46801.59225192, 13227.98629236,\n",
       "       44489.14566597, 12559.34816641, 23745.52609183,  9052.70594265,\n",
       "       26424.57487549,  2354.89494346,  9602.71472595])"
      ]
     },
     "execution_count": 17,
     "metadata": {},
     "output_type": "execute_result"
    }
   ],
   "source": [
    "y_pred"
   ]
  },
  {
   "cell_type": "code",
   "execution_count": 18,
   "id": "103a59b5-ea92-46e6-a488-ada896ddae45",
   "metadata": {},
   "outputs": [
    {
     "data": {
      "text/html": [
       "<div>\n",
       "<style scoped>\n",
       "    .dataframe tbody tr th:only-of-type {\n",
       "        vertical-align: middle;\n",
       "    }\n",
       "\n",
       "    .dataframe tbody tr th {\n",
       "        vertical-align: top;\n",
       "    }\n",
       "\n",
       "    .dataframe thead th {\n",
       "        text-align: right;\n",
       "    }\n",
       "</style>\n",
       "<table border=\"1\" class=\"dataframe\">\n",
       "  <thead>\n",
       "    <tr style=\"text-align: right;\">\n",
       "      <th></th>\n",
       "      <th>charges</th>\n",
       "      <th>y_pred</th>\n",
       "    </tr>\n",
       "  </thead>\n",
       "  <tbody>\n",
       "    <tr>\n",
       "      <th>902</th>\n",
       "      <td>4661.28635</td>\n",
       "      <td>7490.250888</td>\n",
       "    </tr>\n",
       "    <tr>\n",
       "      <th>1066</th>\n",
       "      <td>8978.18510</td>\n",
       "      <td>11424.934519</td>\n",
       "    </tr>\n",
       "    <tr>\n",
       "      <th>1256</th>\n",
       "      <td>11436.73815</td>\n",
       "      <td>12093.593684</td>\n",
       "    </tr>\n",
       "    <tr>\n",
       "      <th>299</th>\n",
       "      <td>9249.49520</td>\n",
       "      <td>11532.209639</td>\n",
       "    </tr>\n",
       "    <tr>\n",
       "      <th>238</th>\n",
       "      <td>17352.68030</td>\n",
       "      <td>19577.913131</td>\n",
       "    </tr>\n",
       "  </tbody>\n",
       "</table>\n",
       "</div>"
      ],
      "text/plain": [
       "          charges        y_pred\n",
       "902    4661.28635   7490.250888\n",
       "1066   8978.18510  11424.934519\n",
       "1256  11436.73815  12093.593684\n",
       "299    9249.49520  11532.209639\n",
       "238   17352.68030  19577.913131"
      ]
     },
     "execution_count": 18,
     "metadata": {},
     "output_type": "execute_result"
    }
   ],
   "source": [
    "df_pred = pd.DataFrame(y_test)\n",
    "df_pred['y_pred'] = y_pred\n",
    "df_pred.head()"
   ]
  },
  {
   "cell_type": "code",
   "execution_count": 19,
   "id": "57feb001-a635-469e-96a7-d7f39bf28b8b",
   "metadata": {},
   "outputs": [
    {
     "data": {
      "text/plain": [
       "Text(0, 0.5, 'pred')"
      ]
     },
     "execution_count": 19,
     "metadata": {},
     "output_type": "execute_result"
    },
    {
     "data": {
      "image/png": "[encoded data removed]",
      "text/plain": [
       "<Figure size 640x480 with 1 Axes>"
      ]
     },
     "metadata": {},
     "output_type": "display_data"
    }
   ],
   "source": [
    "ax = plt.gca()\n",
    "\n",
    "# 傾き1の直線を追加\n",
    "a_line=[df_pred[Y_COLUMN].min(), df_pred[Y_COLUMN].max()]\n",
    "sns.regplot(x=df_pred[Y_COLUMN], y=df_pred.y_pred)\n",
    "sns.regplot(x=a_line, y=a_line,ci=None, scatter=False, line_kws={'color': 'orange', 'linestyle': '--', 'lw': 1})\n",
    "\n",
    "ax.set_xlabel('true')\n",
    "ax.set_ylabel('pred')"
   ]
  },
  {
   "cell_type": "markdown",
   "id": "b7122f0e-9d28-4962-850f-71036ea68dd8",
   "metadata": {},
   "source": [
    "- カテゴリカル変数を含んでいる点はgood\n",
    "- 良い精度を持つモデルが出来ている点は良いと思う（決定係数で0.89）"
   ]
  },
  {
   "cell_type": "markdown",
   "id": "bbc12084-4464-42c1-bfef-87d25bf0b635",
   "metadata": {},
   "source": [
    "## OneHotEncodingを試す"
   ]
  },
  {
   "cell_type": "code",
   "execution_count": 20,
   "id": "23cbbbc8-22d3-471e-8893-d851e872a1fb",
   "metadata": {},
   "outputs": [
    {
     "name": "stdout",
     "output_type": "stream",
     "text": [
      "0.8732862730991857\n"
     ]
    }
   ],
   "source": [
    "X2_train = pd.get_dummies(X_train, columns=categories)\n",
    "X2_test = pd.get_dummies(X_test, columns=categories)\n",
    "\n",
    "rf_model = RandomForestRegressor(max_depth=3)\n",
    "rf_model.fit(X2_train, y_train)\n",
    "y_pred = rf_model.predict(X2_test)\n",
    "\n",
    "#print(y_pred)\n",
    "print(r2_score(y_test, y_pred))"
   ]
  },
  {
   "cell_type": "markdown",
   "id": "d459c105-dccd-4cb1-b553-655bc75afdc2",
   "metadata": {},
   "source": [
    "# 外れ値を除去してみる"
   ]
  },
  {
   "cell_type": "code",
   "execution_count": 21,
   "id": "bd743ed0-6e3c-4ab3-91fa-870b8bf96442",
   "metadata": {},
   "outputs": [
    {
     "data": {
      "text/plain": [
       "<Axes: >"
      ]
     },
     "execution_count": 21,
     "metadata": {},
     "output_type": "execute_result"
    },
    {
     "data": {
      "image/png": "[encoded data removed]",
      "text/plain": [
       "<Figure size 1500x600 with 2 Axes>"
      ]
     },
     "metadata": {},
     "output_type": "display_data"
    }
   ],
   "source": [
    "# 箱ひげ図の表示\n",
    "fig, axes = plt.subplots(1, 2, figsize=(15, 6))\n",
    "df_medical3['bmi'].plot.box(ax=axes[0])\n",
    "df_medical3['charges'].plot.box(ax=axes[1])"
   ]
  },
  {
   "cell_type": "code",
   "execution_count": 22,
   "id": "33c8bc36-c5de-4e22-a6de-93beddca423c",
   "metadata": {},
   "outputs": [
    {
     "data": {
      "text/plain": [
       "<Axes: >"
      ]
     },
     "execution_count": 22,
     "metadata": {},
     "output_type": "execute_result"
    },
    {
     "data": {
      "image/png": "[encoded data removed]",
      "text/plain": [
       "<Figure size 1500x600 with 1 Axes>"
      ]
     },
     "metadata": {},
     "output_type": "display_data"
    }
   ],
   "source": [
    "# ヒストグラムの表示\n",
    "fig, axes = plt.subplots(figsize=(15, 6))\n",
    "df_medical3['bmi'].hist(color='thistle', ax=axes)"
   ]
  },
  {
   "cell_type": "code",
   "execution_count": 23,
   "id": "8e822c9f-2e17-41de-b0a1-674e25c3fe9c",
   "metadata": {},
   "outputs": [
    {
     "data": {
      "text/plain": [
       "<Axes: >"
      ]
     },
     "execution_count": 23,
     "metadata": {},
     "output_type": "execute_result"
    },
    {
     "data": {
      "image/png": "[encoded data removed]",
      "text/plain": [
       "<Figure size 1500x600 with 1 Axes>"
      ]
     },
     "metadata": {},
     "output_type": "display_data"
    }
   ],
   "source": [
    "fig, axes = plt.subplots(figsize=(15, 6))\n",
    "df_medical3['charges'].hist(color='thistle', ax=axes)"
   ]
  },
  {
   "cell_type": "markdown",
   "id": "11ff0945-d223-4ff6-babb-b10257cce3e4",
   "metadata": {},
   "source": [
    "- べき分布だから外れ値があるのが当たり前という感じ。。。"
   ]
  },
  {
   "cell_type": "code",
   "execution_count": 24,
   "id": "4846fc40-699c-4472-96ca-934c4ae0bd65",
   "metadata": {
    "scrolled": true
   },
   "outputs": [
    {
     "data": {
      "text/plain": [
       "(np.float64(30.665108695652176),\n",
       " np.float64(30.4),\n",
       " np.float64(6.106194348510765))"
      ]
     },
     "execution_count": 24,
     "metadata": {},
     "output_type": "execute_result"
    }
   ],
   "source": [
    "bmi_mean = df_medical3['bmi'].mean()\n",
    "bmi_median = df_medical3['bmi'].median()\n",
    "bmi_sigma = df_medical3['bmi'].std()\n",
    "\n",
    "bmi_mean, bmi_median, bmi_sigma"
   ]
  },
  {
   "cell_type": "markdown",
   "id": "49d0f0d6-b72b-410a-a566-d1e1dc52eb5d",
   "metadata": {},
   "source": [
    "- 中央値と平均値がほぼ同じ"
   ]
  },
  {
   "cell_type": "code",
   "execution_count": 25,
   "id": "e48e2dbd-d3d9-4e44-aef0-2702ef11d71c",
   "metadata": {},
   "outputs": [
    {
     "data": {
      "text/html": [
       "<div>\n",
       "<style scoped>\n",
       "    .dataframe tbody tr th:only-of-type {\n",
       "        vertical-align: middle;\n",
       "    }\n",
       "\n",
       "    .dataframe tbody tr th {\n",
       "        vertical-align: top;\n",
       "    }\n",
       "\n",
       "    .dataframe thead th {\n",
       "        text-align: right;\n",
       "    }\n",
       "</style>\n",
       "<table border=\"1\" class=\"dataframe\">\n",
       "  <thead>\n",
       "    <tr style=\"text-align: right;\">\n",
       "      <th></th>\n",
       "      <th>age</th>\n",
       "      <th>sex</th>\n",
       "      <th>bmi</th>\n",
       "      <th>children</th>\n",
       "      <th>smoker</th>\n",
       "      <th>region</th>\n",
       "      <th>charges</th>\n",
       "    </tr>\n",
       "  </thead>\n",
       "  <tbody>\n",
       "    <tr>\n",
       "      <th>116</th>\n",
       "      <td>58</td>\n",
       "      <td>male</td>\n",
       "      <td>49.06</td>\n",
       "      <td>0</td>\n",
       "      <td>no</td>\n",
       "      <td>southeast</td>\n",
       "      <td>11381.32540</td>\n",
       "    </tr>\n",
       "    <tr>\n",
       "      <th>286</th>\n",
       "      <td>46</td>\n",
       "      <td>female</td>\n",
       "      <td>48.07</td>\n",
       "      <td>2</td>\n",
       "      <td>no</td>\n",
       "      <td>northeast</td>\n",
       "      <td>9432.92530</td>\n",
       "    </tr>\n",
       "    <tr>\n",
       "      <th>401</th>\n",
       "      <td>47</td>\n",
       "      <td>male</td>\n",
       "      <td>47.52</td>\n",
       "      <td>1</td>\n",
       "      <td>no</td>\n",
       "      <td>southeast</td>\n",
       "      <td>8083.91980</td>\n",
       "    </tr>\n",
       "    <tr>\n",
       "      <th>438</th>\n",
       "      <td>52</td>\n",
       "      <td>female</td>\n",
       "      <td>46.75</td>\n",
       "      <td>5</td>\n",
       "      <td>no</td>\n",
       "      <td>southeast</td>\n",
       "      <td>12592.53450</td>\n",
       "    </tr>\n",
       "    <tr>\n",
       "      <th>454</th>\n",
       "      <td>32</td>\n",
       "      <td>male</td>\n",
       "      <td>46.53</td>\n",
       "      <td>2</td>\n",
       "      <td>no</td>\n",
       "      <td>southeast</td>\n",
       "      <td>4686.38870</td>\n",
       "    </tr>\n",
       "    <tr>\n",
       "      <th>543</th>\n",
       "      <td>54</td>\n",
       "      <td>female</td>\n",
       "      <td>47.41</td>\n",
       "      <td>0</td>\n",
       "      <td>yes</td>\n",
       "      <td>southeast</td>\n",
       "      <td>63770.42801</td>\n",
       "    </tr>\n",
       "    <tr>\n",
       "      <th>547</th>\n",
       "      <td>54</td>\n",
       "      <td>female</td>\n",
       "      <td>46.70</td>\n",
       "      <td>2</td>\n",
       "      <td>no</td>\n",
       "      <td>southwest</td>\n",
       "      <td>11538.42100</td>\n",
       "    </tr>\n",
       "    <tr>\n",
       "      <th>549</th>\n",
       "      <td>43</td>\n",
       "      <td>female</td>\n",
       "      <td>46.20</td>\n",
       "      <td>0</td>\n",
       "      <td>yes</td>\n",
       "      <td>southeast</td>\n",
       "      <td>45863.20500</td>\n",
       "    </tr>\n",
       "    <tr>\n",
       "      <th>660</th>\n",
       "      <td>37</td>\n",
       "      <td>male</td>\n",
       "      <td>46.53</td>\n",
       "      <td>3</td>\n",
       "      <td>no</td>\n",
       "      <td>southeast</td>\n",
       "      <td>6435.62370</td>\n",
       "    </tr>\n",
       "    <tr>\n",
       "      <th>847</th>\n",
       "      <td>23</td>\n",
       "      <td>male</td>\n",
       "      <td>50.38</td>\n",
       "      <td>1</td>\n",
       "      <td>no</td>\n",
       "      <td>southeast</td>\n",
       "      <td>2438.05520</td>\n",
       "    </tr>\n",
       "    <tr>\n",
       "      <th>860</th>\n",
       "      <td>37</td>\n",
       "      <td>female</td>\n",
       "      <td>47.60</td>\n",
       "      <td>2</td>\n",
       "      <td>yes</td>\n",
       "      <td>southwest</td>\n",
       "      <td>46113.51100</td>\n",
       "    </tr>\n",
       "    <tr>\n",
       "      <th>930</th>\n",
       "      <td>26</td>\n",
       "      <td>male</td>\n",
       "      <td>46.53</td>\n",
       "      <td>1</td>\n",
       "      <td>no</td>\n",
       "      <td>southeast</td>\n",
       "      <td>2927.06470</td>\n",
       "    </tr>\n",
       "    <tr>\n",
       "      <th>941</th>\n",
       "      <td>50</td>\n",
       "      <td>female</td>\n",
       "      <td>46.09</td>\n",
       "      <td>1</td>\n",
       "      <td>no</td>\n",
       "      <td>southeast</td>\n",
       "      <td>9549.56510</td>\n",
       "    </tr>\n",
       "    <tr>\n",
       "      <th>1047</th>\n",
       "      <td>22</td>\n",
       "      <td>male</td>\n",
       "      <td>52.58</td>\n",
       "      <td>1</td>\n",
       "      <td>yes</td>\n",
       "      <td>southeast</td>\n",
       "      <td>44501.39820</td>\n",
       "    </tr>\n",
       "    <tr>\n",
       "      <th>1088</th>\n",
       "      <td>52</td>\n",
       "      <td>male</td>\n",
       "      <td>47.74</td>\n",
       "      <td>1</td>\n",
       "      <td>no</td>\n",
       "      <td>southeast</td>\n",
       "      <td>9748.91060</td>\n",
       "    </tr>\n",
       "    <tr>\n",
       "      <th>1131</th>\n",
       "      <td>27</td>\n",
       "      <td>male</td>\n",
       "      <td>45.90</td>\n",
       "      <td>2</td>\n",
       "      <td>no</td>\n",
       "      <td>southwest</td>\n",
       "      <td>3693.42800</td>\n",
       "    </tr>\n",
       "    <tr>\n",
       "      <th>1317</th>\n",
       "      <td>18</td>\n",
       "      <td>male</td>\n",
       "      <td>53.13</td>\n",
       "      <td>0</td>\n",
       "      <td>no</td>\n",
       "      <td>southeast</td>\n",
       "      <td>1163.46270</td>\n",
       "    </tr>\n",
       "  </tbody>\n",
       "</table>\n",
       "</div>"
      ],
      "text/plain": [
       "      age     sex    bmi  children smoker     region      charges\n",
       "116    58    male  49.06         0     no  southeast  11381.32540\n",
       "286    46  female  48.07         2     no  northeast   9432.92530\n",
       "401    47    male  47.52         1     no  southeast   8083.91980\n",
       "438    52  female  46.75         5     no  southeast  12592.53450\n",
       "454    32    male  46.53         2     no  southeast   4686.38870\n",
       "543    54  female  47.41         0    yes  southeast  63770.42801\n",
       "547    54  female  46.70         2     no  southwest  11538.42100\n",
       "549    43  female  46.20         0    yes  southeast  45863.20500\n",
       "660    37    male  46.53         3     no  southeast   6435.62370\n",
       "847    23    male  50.38         1     no  southeast   2438.05520\n",
       "860    37  female  47.60         2    yes  southwest  46113.51100\n",
       "930    26    male  46.53         1     no  southeast   2927.06470\n",
       "941    50  female  46.09         1     no  southeast   9549.56510\n",
       "1047   22    male  52.58         1    yes  southeast  44501.39820\n",
       "1088   52    male  47.74         1     no  southeast   9748.91060\n",
       "1131   27    male  45.90         2     no  southwest   3693.42800\n",
       "1317   18    male  53.13         0     no  southeast   1163.46270"
      ]
     },
     "execution_count": 25,
     "metadata": {},
     "output_type": "execute_result"
    }
   ],
   "source": [
    "df_medical3[df_medical3['bmi'] > (bmi_median+2.5*bmi_sigma)]"
   ]
  },
  {
   "cell_type": "code",
   "execution_count": 26,
   "id": "a913b42b-13ca-4e4e-baba-9456602ff7f3",
   "metadata": {},
   "outputs": [
    {
     "data": {
      "text/plain": [
       "(np.float64(13270.782875606446),\n",
       " np.float64(9382.033),\n",
       " np.float64(12122.44572636818))"
      ]
     },
     "execution_count": 26,
     "metadata": {},
     "output_type": "execute_result"
    }
   ],
   "source": [
    "charges_mean = df_medical3['charges'].mean()\n",
    "charges_median = df_medical3['charges'].median()\n",
    "charges_sigma = df_medical3['charges'].std()\n",
    "\n",
    "charges_mean, charges_median, charges_sigma"
   ]
  },
  {
   "cell_type": "markdown",
   "id": "0542d756-2881-42cd-b8b2-a9c1fdeafcc4",
   "metadata": {},
   "source": [
    "- 中央値と平均値がかなり離れてますね"
   ]
  },
  {
   "cell_type": "code",
   "execution_count": 38,
   "id": "a1712001-6ede-44b1-90ac-c789441c7b3d",
   "metadata": {},
   "outputs": [
    {
     "name": "stdout",
     "output_type": "stream",
     "text": [
      "35\n"
     ]
    },
    {
     "data": {
      "text/html": [
       "<div>\n",
       "<style scoped>\n",
       "    .dataframe tbody tr th:only-of-type {\n",
       "        vertical-align: middle;\n",
       "    }\n",
       "\n",
       "    .dataframe tbody tr th {\n",
       "        vertical-align: top;\n",
       "    }\n",
       "\n",
       "    .dataframe thead th {\n",
       "        text-align: right;\n",
       "    }\n",
       "</style>\n",
       "<table border=\"1\" class=\"dataframe\">\n",
       "  <thead>\n",
       "    <tr style=\"text-align: right;\">\n",
       "      <th></th>\n",
       "      <th>age</th>\n",
       "      <th>sex</th>\n",
       "      <th>bmi</th>\n",
       "      <th>children</th>\n",
       "      <th>smoker</th>\n",
       "      <th>region</th>\n",
       "      <th>charges</th>\n",
       "    </tr>\n",
       "  </thead>\n",
       "  <tbody>\n",
       "    <tr>\n",
       "      <th>549</th>\n",
       "      <td>43</td>\n",
       "      <td>female</td>\n",
       "      <td>46.200</td>\n",
       "      <td>0</td>\n",
       "      <td>yes</td>\n",
       "      <td>southeast</td>\n",
       "      <td>45863.20500</td>\n",
       "    </tr>\n",
       "    <tr>\n",
       "      <th>860</th>\n",
       "      <td>37</td>\n",
       "      <td>female</td>\n",
       "      <td>47.600</td>\n",
       "      <td>2</td>\n",
       "      <td>yes</td>\n",
       "      <td>southwest</td>\n",
       "      <td>46113.51100</td>\n",
       "    </tr>\n",
       "    <tr>\n",
       "      <th>677</th>\n",
       "      <td>60</td>\n",
       "      <td>male</td>\n",
       "      <td>31.350</td>\n",
       "      <td>3</td>\n",
       "      <td>yes</td>\n",
       "      <td>northwest</td>\n",
       "      <td>46130.52650</td>\n",
       "    </tr>\n",
       "    <tr>\n",
       "      <th>265</th>\n",
       "      <td>46</td>\n",
       "      <td>male</td>\n",
       "      <td>42.350</td>\n",
       "      <td>3</td>\n",
       "      <td>yes</td>\n",
       "      <td>southeast</td>\n",
       "      <td>46151.12450</td>\n",
       "    </tr>\n",
       "    <tr>\n",
       "      <th>674</th>\n",
       "      <td>44</td>\n",
       "      <td>female</td>\n",
       "      <td>43.890</td>\n",
       "      <td>2</td>\n",
       "      <td>yes</td>\n",
       "      <td>southeast</td>\n",
       "      <td>46200.98510</td>\n",
       "    </tr>\n",
       "    <tr>\n",
       "      <th>819</th>\n",
       "      <td>33</td>\n",
       "      <td>female</td>\n",
       "      <td>35.530</td>\n",
       "      <td>0</td>\n",
       "      <td>yes</td>\n",
       "      <td>northwest</td>\n",
       "      <td>55135.40209</td>\n",
       "    </tr>\n",
       "    <tr>\n",
       "      <th>577</th>\n",
       "      <td>31</td>\n",
       "      <td>female</td>\n",
       "      <td>38.095</td>\n",
       "      <td>1</td>\n",
       "      <td>yes</td>\n",
       "      <td>northeast</td>\n",
       "      <td>58571.07448</td>\n",
       "    </tr>\n",
       "    <tr>\n",
       "      <th>1230</th>\n",
       "      <td>52</td>\n",
       "      <td>male</td>\n",
       "      <td>34.485</td>\n",
       "      <td>3</td>\n",
       "      <td>yes</td>\n",
       "      <td>northwest</td>\n",
       "      <td>60021.39897</td>\n",
       "    </tr>\n",
       "    <tr>\n",
       "      <th>1300</th>\n",
       "      <td>45</td>\n",
       "      <td>male</td>\n",
       "      <td>30.360</td>\n",
       "      <td>0</td>\n",
       "      <td>yes</td>\n",
       "      <td>southeast</td>\n",
       "      <td>62592.87309</td>\n",
       "    </tr>\n",
       "    <tr>\n",
       "      <th>543</th>\n",
       "      <td>54</td>\n",
       "      <td>female</td>\n",
       "      <td>47.410</td>\n",
       "      <td>0</td>\n",
       "      <td>yes</td>\n",
       "      <td>southeast</td>\n",
       "      <td>63770.42801</td>\n",
       "    </tr>\n",
       "  </tbody>\n",
       "</table>\n",
       "</div>"
      ],
      "text/plain": [
       "      age     sex     bmi  children smoker     region      charges\n",
       "549    43  female  46.200         0    yes  southeast  45863.20500\n",
       "860    37  female  47.600         2    yes  southwest  46113.51100\n",
       "677    60    male  31.350         3    yes  northwest  46130.52650\n",
       "265    46    male  42.350         3    yes  southeast  46151.12450\n",
       "674    44  female  43.890         2    yes  southeast  46200.98510\n",
       "819    33  female  35.530         0    yes  northwest  55135.40209\n",
       "577    31  female  38.095         1    yes  northeast  58571.07448\n",
       "1230   52    male  34.485         3    yes  northwest  60021.39897\n",
       "1300   45    male  30.360         0    yes  southeast  62592.87309\n",
       "543    54  female  47.410         0    yes  southeast  63770.42801"
      ]
     },
     "execution_count": 38,
     "metadata": {},
     "output_type": "execute_result"
    }
   ],
   "source": [
    "outlier_charges = df_medical3[df_medical3['charges'] > (charges_median+3*charges_sigma)].sort_values('charges')\n",
    "print(len(outlier_charges))\n",
    "pd.concat([outlier_charges.head(),outlier_charges.tail()])"
   ]
  },
  {
   "cell_type": "markdown",
   "id": "f667f840-ee2b-4c5b-a2ec-954353bc3e6b",
   "metadata": {},
   "source": [
    "- 3σを超える値もかなり多いです"
   ]
  },
  {
   "cell_type": "code",
   "execution_count": 32,
   "id": "b96a7ae8-99b3-4d03-80e7-3121d29d4b04",
   "metadata": {},
   "outputs": [
    {
     "name": "stdout",
     "output_type": "stream",
     "text": [
      "<class 'pandas.core.frame.DataFrame'>\n",
      "Index: 1295 entries, 0 to 1337\n",
      "Data columns (total 7 columns):\n",
      " #   Column    Non-Null Count  Dtype   \n",
      "---  ------    --------------  -----   \n",
      " 0   age       1295 non-null   int64   \n",
      " 1   sex       1295 non-null   category\n",
      " 2   bmi       1295 non-null   float64 \n",
      " 3   children  1295 non-null   int64   \n",
      " 4   smoker    1295 non-null   category\n",
      " 5   region    1295 non-null   category\n",
      " 6   charges   1295 non-null   float64 \n",
      "dtypes: category(3), float64(2), int64(2)\n",
      "memory usage: 54.8 KB\n"
     ]
    }
   ],
   "source": [
    "df_medical4 = df_medical3[(df_medical3['bmi'] < (bmi_median+3*bmi_sigma)) & (df_medical3['charges'] < (charges_median+3*charges_sigma))]\n",
    "df_medical4.info()"
   ]
  },
  {
   "cell_type": "code",
   "execution_count": 33,
   "id": "e32fbd56-ad48-4591-83ca-c458ad67cdc2",
   "metadata": {},
   "outputs": [
    {
     "name": "stdout",
     "output_type": "stream",
     "text": [
      "sex\n",
      "1    650\n",
      "0    645\n",
      "Name: count, dtype: int64\n",
      "smoker\n",
      "0    1058\n",
      "1     237\n",
      "Name: count, dtype: int64\n",
      "region\n",
      "2    345\n",
      "1    318\n",
      "0    317\n",
      "3    315\n",
      "Name: count, dtype: int64\n",
      "0.8222417321985873\n"
     ]
    }
   ],
   "source": [
    "X5 = df_medical4.iloc[:,:-1]\n",
    "y5 = df_medical4.iloc[:,-1]\n",
    "\n",
    "for cat in categories:\n",
    "    le = LabelEncoder()\n",
    "    le = le.fit(X5[cat])\n",
    "    X5[cat] = le.transform(X5[cat])\n",
    "    X5[cat] = X5[cat].astype('category')\n",
    "    print(X5[cat].value_counts())\n",
    "\n",
    "X5_train, X5_test, y5_train, y5_test = train_test_split(X5, y5, test_size=0.3, random_state=42)\n",
    "\n",
    "rf_model = RandomForestRegressor(max_depth=5)\n",
    "rf_model.fit(X5_train, y5_train)\n",
    "y_pred = rf_model.predict(X5_test)\n",
    "\n",
    "#print(y_pred)\n",
    "print(r2_score(y5_test, y_pred))"
   ]
  },
  {
   "cell_type": "markdown",
   "id": "a0fad568-672a-4d69-9e95-5c525eb88c70",
   "metadata": {},
   "source": [
    "- やっぱり下がる＾＾；"
   ]
  },
  {
   "cell_type": "code",
   "execution_count": null,
   "id": "8322bf8f-25eb-4646-a074-fdaee7c2c492",
   "metadata": {},
   "outputs": [],
   "source": []
  }
 ],
 "metadata": {
  "kernelspec": {
   "display_name": "Python 3 (ipykernel)",
   "language": "python",
   "name": "python3"
  },
  "language_info": {
   "codemirror_mode": {
    "name": "ipython",
    "version": 3
   },
   "file_extension": ".py",
   "mimetype": "text/x-python",
   "name": "python",
   "nbconvert_exporter": "python",
   "pygments_lexer": "ipython3",
   "version": "3.11.9"
  }
 },
 "nbformat": 4,
 "nbformat_minor": 5
}
