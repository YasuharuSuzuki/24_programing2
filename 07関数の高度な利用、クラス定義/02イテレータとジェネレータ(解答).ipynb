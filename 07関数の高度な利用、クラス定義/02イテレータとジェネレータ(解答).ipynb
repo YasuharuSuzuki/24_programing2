{
 "cells": [
  {
   "cell_type": "markdown",
   "metadata": {
    "colab_type": "text",
    "id": "view-in-github"
   },
   "source": [
    "<a href=\"https://colab.research.google.com/github/YasuharuSuzuki/24_programing2/blob/main/\" target=\"_parent\"><img src=\"https://colab.research.google.com/assets/colab-badge.svg\" alt=\"Open In Colab\"/></a>"
   ]
  },
  {
   "cell_type": "markdown",
   "metadata": {},
   "source": [
    "# Section 11 関数の高度な利用\n",
    "## Section 11-2 イテレータとジェネレータ(教科書P.263)"
   ]
  },
  {
   "cell_type": "markdown",
   "metadata": {},
   "source": [
    "## 参考サイト\n",
    "### [【Python早見表】イテレータ](https://chokkan.github.io/python/15iterator.html#id2)\n",
    "### [【Python早見表】ジェネレータ](https://chokkan.github.io/python/15iterator.html#id3)"
   ]
  },
  {
   "cell_type": "markdown",
   "metadata": {},
   "source": [
    "## サンプルプログラム7　イテレータ\n",
    "- イテレータはiter()を使用してイテラブルから作ることが出来ます\n",
    "- イテレータはnext()を呼び出して順次に値を取り出すことが出来ます\n",
    "- 取り出す要素が無くなると StopIteration 例外が発生します"
   ]
  },
  {
   "cell_type": "code",
   "execution_count": 1,
   "metadata": {},
   "outputs": [
    {
     "data": {
      "text/plain": [
       "<list_iterator at 0x1045576d0>"
      ]
     },
     "execution_count": 1,
     "metadata": {},
     "output_type": "execute_result"
    }
   ],
   "source": [
    "colors = [\"red\", \"green\", \"blue\", \"yellow\"]\n",
    "colors_iter = iter(colors)\n",
    "colors_iter"
   ]
  },
  {
   "cell_type": "code",
   "execution_count": 2,
   "metadata": {},
   "outputs": [
    {
     "data": {
      "text/plain": [
       "'red'"
      ]
     },
     "execution_count": 2,
     "metadata": {},
     "output_type": "execute_result"
    }
   ],
   "source": [
    "next(colors_iter)"
   ]
  },
  {
   "cell_type": "code",
   "execution_count": 3,
   "metadata": {},
   "outputs": [
    {
     "data": {
      "text/plain": [
       "'green'"
      ]
     },
     "execution_count": 3,
     "metadata": {},
     "output_type": "execute_result"
    }
   ],
   "source": [
    "next(colors_iter)"
   ]
  },
  {
   "cell_type": "code",
   "execution_count": 4,
   "metadata": {},
   "outputs": [
    {
     "data": {
      "text/plain": [
       "'blue'"
      ]
     },
     "execution_count": 4,
     "metadata": {},
     "output_type": "execute_result"
    }
   ],
   "source": [
    "next(colors_iter)"
   ]
  },
  {
   "cell_type": "code",
   "execution_count": 5,
   "metadata": {},
   "outputs": [
    {
     "data": {
      "text/plain": [
       "'yellow'"
      ]
     },
     "execution_count": 5,
     "metadata": {},
     "output_type": "execute_result"
    }
   ],
   "source": [
    "next(colors_iter)"
   ]
  },
  {
   "cell_type": "code",
   "execution_count": 6,
   "metadata": {},
   "outputs": [
    {
     "ename": "StopIteration",
     "evalue": "",
     "output_type": "error",
     "traceback": [
      "\u001b[0;31m---------------------------------------------------------------------------\u001b[0m",
      "\u001b[0;31mStopIteration\u001b[0m                             Traceback (most recent call last)",
      "Cell \u001b[0;32mIn[6], line 1\u001b[0m\n\u001b[0;32m----> 1\u001b[0m \u001b[38;5;28;43mnext\u001b[39;49m\u001b[43m(\u001b[49m\u001b[43mcolors_iter\u001b[49m\u001b[43m)\u001b[49m\n",
      "\u001b[0;31mStopIteration\u001b[0m: "
     ]
    }
   ],
   "source": [
    "next(colors_iter)"
   ]
  },
  {
   "cell_type": "markdown",
   "metadata": {},
   "source": [
    "## 練習プログラム７　関数オブジェクト (1点)\n",
    "- iter()を使用してイテレータを作成してみましょう。\n",
    "- next()を使用して順次に値を取り出してみましょう\n",
    "- 取り出す要素が無くなって StopIteration 例外が発生するまでnext()を呼び出してみましょう"
   ]
  },
  {
   "cell_type": "code",
   "execution_count": 8,
   "metadata": {},
   "outputs": [
    {
     "data": {
      "text/plain": [
       "<list_iterator at 0x114095240>"
      ]
     },
     "execution_count": 8,
     "metadata": {},
     "output_type": "execute_result"
    }
   ],
   "source": [
    "#  1. iter()を使用してイテレータを作成してみましょう\n",
    "# 定義するイテレータは何でも良いですが、このNotebookのサンプルプログラムや教科書の値とは違う独自の値を入れましょう\n",
    "# 変数名も独自のものに変えましょう\n",
    "\n",
    "# ここにPythonプログラムを記述してください\n",
    "birds = [\"セキセイインコ\", \"オカメインコ\", \"文鳥\", \"コザクラインコ\"]\n",
    "birds_iter = iter(birds)\n",
    "birds_iter"
   ]
  },
  {
   "cell_type": "code",
   "execution_count": 9,
   "metadata": {},
   "outputs": [
    {
     "data": {
      "text/plain": [
       "'セキセイインコ'"
      ]
     },
     "execution_count": 9,
     "metadata": {},
     "output_type": "execute_result"
    }
   ],
   "source": [
    "#  2. next()を使用して順次に値を取り出してみましょう\n",
    "# イテレータは独自に作成したものを使用しましょう。\n",
    "\n",
    "# ここにPythonプログラムを記述してください\n",
    "next(birds_iter)"
   ]
  },
  {
   "cell_type": "code",
   "execution_count": 10,
   "metadata": {},
   "outputs": [
    {
     "ename": "StopIteration",
     "evalue": "",
     "output_type": "error",
     "traceback": [
      "\u001b[0;31m---------------------------------------------------------------------------\u001b[0m",
      "\u001b[0;31mStopIteration\u001b[0m                             Traceback (most recent call last)",
      "Cell \u001b[0;32mIn[10], line 8\u001b[0m\n\u001b[1;32m      6\u001b[0m \u001b[38;5;28mnext\u001b[39m(birds_iter)\n\u001b[1;32m      7\u001b[0m \u001b[38;5;28mnext\u001b[39m(birds_iter)\n\u001b[0;32m----> 8\u001b[0m \u001b[38;5;28;43mnext\u001b[39;49m\u001b[43m(\u001b[49m\u001b[43mbirds_iter\u001b[49m\u001b[43m)\u001b[49m\n",
      "\u001b[0;31mStopIteration\u001b[0m: "
     ]
    }
   ],
   "source": [
    "#  3. 取り出す要素が無くなって StopIteration 例外が発生するまでnext()を呼び出してみましょう\n",
    "# イテレータは独自に作成したものを使用しましょう。\n",
    "\n",
    "# ここにPythonプログラムを記述してください\n",
    "next(birds_iter)\n",
    "next(birds_iter)\n",
    "next(birds_iter)\n",
    "next(birds_iter)"
   ]
  },
  {
   "cell_type": "markdown",
   "metadata": {},
   "source": [
    "---\n",
    "---\n",
    "---\n",
    "---\n",
    "---"
   ]
  },
  {
   "cell_type": "markdown",
   "metadata": {},
   "source": [
    "## サンプルプログラム8　ジェネレータ\n",
    "- ジェネレータ関数を使用すると値を生成する関数を作ることが出来ます\n",
    "- ジェネレータはイテラブルのように順次に値を取り出すことが可能です。\n",
    "- ジェネレータではreturnではなくyieldを指定して生成した値を返すことが出来ます。\n",
    "- イテラブルではすべての値をメモリに保持しておく必要がありますが、ジェネレータは都度生成するためメモリを節約できるメリットがあります"
   ]
  },
  {
   "cell_type": "markdown",
   "metadata": {},
   "source": [
    "### 組み合わせの数を計算する例\n",
    "自然数$n$が与えられたとき、${}_nC_k　(k=0,1,...,n)$と$\\sum_{n=1}^{k} {}_nC_k$を計算するプログラムの例"
   ]
  },
  {
   "cell_type": "code",
   "execution_count": 12,
   "metadata": {},
   "outputs": [
    {
     "name": "stdout",
     "output_type": "stream",
     "text": [
      "1\n",
      "6\n",
      "15\n",
      "20\n",
      "15\n",
      "6\n",
      "1\n"
     ]
    },
    {
     "data": {
      "text/plain": [
       "64"
      ]
     },
     "execution_count": 12,
     "metadata": {},
     "output_type": "execute_result"
    }
   ],
   "source": [
    "# イテラブル（リスト）を作成する関数の例\n",
    "def list_combinations(n):\n",
    "    v = 1\n",
    "    C = []\n",
    "    for k in range(n+1):\n",
    "        C.append(v)\n",
    "        v *= (n-k)\n",
    "        v //= (k+1)\n",
    "    return C\n",
    "\n",
    "# 組み合わせの数の合計値を計算\n",
    "n = 6\n",
    "s = 0\n",
    "for v in list_combinations(n):\n",
    "    print(v)\n",
    "    s += v\n",
    "s"
   ]
  },
  {
   "cell_type": "markdown",
   "metadata": {},
   "source": [
    "- ジェネレータ関数では以下のように書くことが出来ます"
   ]
  },
  {
   "cell_type": "code",
   "execution_count": 14,
   "metadata": {},
   "outputs": [
    {
     "name": "stdout",
     "output_type": "stream",
     "text": [
      "1\n",
      "6\n",
      "15\n",
      "20\n",
      "15\n",
      "6\n",
      "1\n"
     ]
    },
    {
     "data": {
      "text/plain": [
       "64"
      ]
     },
     "execution_count": 14,
     "metadata": {},
     "output_type": "execute_result"
    }
   ],
   "source": [
    "# ジェネレータ関数の例\n",
    "def gen_combinations(n):\n",
    "    v = 1\n",
    "    for k in range(n+1):\n",
    "        yield v\n",
    "        v *= (n-k)\n",
    "        v //= (k+1)\n",
    "\n",
    "# 組み合わせの数の合計値を計算\n",
    "# 呼び出し方はlist_combiations()のときと同じ\n",
    "s = 0\n",
    "for v in gen_combinations(6):\n",
    "    print(v)\n",
    "    s += v\n",
    "s"
   ]
  },
  {
   "cell_type": "markdown",
   "metadata": {},
   "source": [
    "- 実際にイテレータとジェネレータが消費しているメモリ量を見てみましょう\n",
    "- sys.getsizeof()を使用すると消費メモリ量を取得できます"
   ]
  },
  {
   "cell_type": "code",
   "execution_count": 17,
   "metadata": {},
   "outputs": [
    {
     "name": "stdout",
     "output_type": "stream",
     "text": [
      "sys.getsizeof(list_combinations(5)) = 120\n",
      "sys.getsizeof(gen_combinations(5)) = 104\n"
     ]
    }
   ],
   "source": [
    "import sys\n",
    "print(\"sys.getsizeof(list_combinations(5)) =\", sys.getsizeof(list_combinations(5)))\n",
    "print(\"sys.getsizeof(gen_combinations(5)) =\", sys.getsizeof(gen_combinations(5)))"
   ]
  },
  {
   "cell_type": "markdown",
   "metadata": {},
   "source": [
    "- $k=5$ だとあまり変わりがありませんが"
   ]
  },
  {
   "cell_type": "code",
   "execution_count": 18,
   "metadata": {},
   "outputs": [
    {
     "name": "stdout",
     "output_type": "stream",
     "text": [
      "sys.getsizeof(list_combinations(100000)) = 800984\n",
      "sys.getsizeof(gen_combinations(100000)) = 104\n"
     ]
    }
   ],
   "source": [
    "print(\"sys.getsizeof(list_combinations(100000)) =\", sys.getsizeof(list_combinations(100000)))\n",
    "print(\"sys.getsizeof(gen_combinations(100000)) =\", sys.getsizeof(gen_combinations(100000)))"
   ]
  },
  {
   "cell_type": "markdown",
   "metadata": {},
   "source": [
    "- $k=100000$ だとかなり差が出ます"
   ]
  },
  {
   "cell_type": "markdown",
   "metadata": {},
   "source": [
    "## 練習プログラム8　ジェネレータ (1点)\n",
    "- ジェネレータ関数を作成してみましょう。\n",
    "- 同じ処理をイテラブルで作成してみましょう。\n",
    "- ジェネレータ関数とイテラブルで作成した場合で、消費メモリを比較してみましょう。"
   ]
  },
  {
   "cell_type": "code",
   "execution_count": 15,
   "metadata": {},
   "outputs": [
    {
     "name": "stdout",
     "output_type": "stream",
     "text": [
      "セキセイインコ\n",
      "オカメインコ\n",
      "文鳥\n",
      "コザクラインコ\n",
      "セキセイインコ\n",
      "オカメインコ\n"
     ]
    }
   ],
   "source": [
    "# 1. ジェネレータ関数を作成してみましょう。\n",
    "# 定義するジェネレータは何でも良いですが、このNotebookのサンプルプログラムや教科書の値とは違う独自の値を入れましょう\n",
    "# 変数名も独自のものに変えましょう\n",
    "\n",
    "# ここにPythonプログラムを記述してください\n",
    "def gen_birds(number_of_bird):\n",
    "    for i in range(number_of_bird):\n",
    "        yield birds[i%len(birds)]\n",
    "\n",
    "for bird_name in gen_birds(6):\n",
    "    print(bird_name)"
   ]
  },
  {
   "cell_type": "code",
   "execution_count": 16,
   "metadata": {},
   "outputs": [
    {
     "name": "stdout",
     "output_type": "stream",
     "text": [
      "セキセイインコ\n",
      "オカメインコ\n",
      "文鳥\n",
      "コザクラインコ\n",
      "セキセイインコ\n",
      "オカメインコ\n"
     ]
    }
   ],
   "source": [
    "# 2. 同じ処理をイテラブルで作成してみましょう。\n",
    "# 定義するイテラブルは何でも良いですが、このNotebookのサンプルプログラムや教科書の値とは違う独自の値を入れましょう\n",
    "# 変数名も独自のものに変えましょう\n",
    "\n",
    "# ここにPythonプログラムを記述してください\n",
    "def list_birds(number_of_bird):\n",
    "    list_birds = []\n",
    "    for i in range(number_of_bird):\n",
    "        list_birds.append(birds[i%len(birds)])\n",
    "    return list_birds\n",
    "\n",
    "for bird_name in list_birds(6):\n",
    "    print(bird_name)"
   ]
  },
  {
   "cell_type": "code",
   "execution_count": 18,
   "metadata": {},
   "outputs": [
    {
     "name": "stdout",
     "output_type": "stream",
     "text": [
      "sys.getsizeof(list_birds(100000)) = 800984\n",
      "sys.getsizeof(gen_birds(100000)) = 232\n"
     ]
    }
   ],
   "source": [
    "# 3. ジェネレータ関数とイテラブルで作成した場合で、消費メモリを比較してみましょう。\n",
    "# 独自に作成したジェネレータ関数とイテラブルの消費メモリを比較しましょう。\n",
    "\n",
    "# ここにPythonプログラムを記述してください\n",
    "import sys\n",
    "\n",
    "print(\"sys.getsizeof(list_birds(100000)) =\", sys.getsizeof(list_birds(100000)))\n",
    "print(\"sys.getsizeof(gen_birds(100000)) =\", sys.getsizeof(gen_birds(100000)))"
   ]
  },
  {
   "cell_type": "code",
   "execution_count": null,
   "metadata": {},
   "outputs": [],
   "source": []
  },
  {
   "cell_type": "markdown",
   "metadata": {},
   "source": [
    "---\n",
    "---\n",
    "---\n",
    "---\n",
    "---"
   ]
  },
  {
   "cell_type": "code",
   "execution_count": null,
   "metadata": {},
   "outputs": [],
   "source": []
  }
 ],
 "metadata": {
  "colab": {
   "authorship_tag": "ABX9TyMOtB7OiTVLb+yu2KoVwjto",
   "include_colab_link": true,
   "provenance": []
  },
  "kernelspec": {
   "display_name": "Python 3 (ipykernel)",
   "language": "python",
   "name": "python3"
  },
  "language_info": {
   "codemirror_mode": {
    "name": "ipython",
    "version": 3
   },
   "file_extension": ".py",
   "mimetype": "text/x-python",
   "name": "python",
   "nbconvert_exporter": "python",
   "pygments_lexer": "ipython3",
   "version": "3.12.3"
  }
 },
 "nbformat": 4,
 "nbformat_minor": 4
}
