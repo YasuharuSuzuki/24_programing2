{
 "cells": [
  {
   "cell_type": "markdown",
   "metadata": {
    "colab_type": "text",
    "id": "view-in-github"
   },
   "source": [
    "<a href=\"https://colab.research.google.com/github/YasuharuSuzuki/23_programing2/blob/main/\" target=\"_parent\"><img src=\"https://colab.research.google.com/assets/colab-badge.svg\" alt=\"Open In Colab\"/></a>"
   ]
  },
  {
   "cell_type": "markdown",
   "metadata": {},
   "source": [
    "# 01. ワクチン接種データの読み込みとデータ加工\n",
    "- Notebookに記述されたプログラムの流れに従って、データを加工するプログラムを作成してください\n",
    "  - 使用データ\n",
    "    - ./data/prefectures.txt  都道府県IDと都道府県データ\n",
    "    - ./data/vaccination.txt  2021年4月12日〜７月22日のワクチン接種データ\n",
    "  - データ加工\n",
    "    - 辞書型/ユーザー定義関数/クラスを使用して加工します\n",
    "    - ユーザー定義関数を.pyファイルにモジュール化して読み込みます"
   ]
  },
  {
   "cell_type": "markdown",
   "metadata": {},
   "source": [
    "### 00. 定数の定義\n",
    "- データファイルパスを定義しておきます\n",
    "- データ読み込みの際にご使用してください。修正は不要です"
   ]
  },
  {
   "cell_type": "code",
   "execution_count": 70,
   "metadata": {},
   "outputs": [],
   "source": [
    "# データファイルパス定義\n",
    "PREFECTURES_PATH = \"./data/prefectures.txt\"\n",
    "VACCINATION_PATH = \"./data/vaccination.txt\"\n",
    "OKINAWA_VACCINATION_PATH = \"./data/okinawa_vaccination.txt\""
   ]
  },
  {
   "cell_type": "markdown",
   "metadata": {},
   "source": [
    "## 01. 都道府県データの読み込み(0.5点)\n",
    "1. GoogleDriveをマウントしましょう\n",
    "  - 第４回の授業で行ったようにショートカットを作成しましょう\n",
    "  - ショートカット先は採点する先生が読み込み可能な共有ドライブで作成してください。\n",
    "  - GoogleDriveをマウント後、データが読み込み可能なようにカレントディレクトリを変更してください。\n",
    "\n",
    "1. ./data/prefectures.txt を読み込みましょう\n",
    "  - １行ずつ空白区切りで都道府県IDと都道府県名が定義されているため、辞書型で読み込みましょう\n",
    "  - 読み込んだデータは prefectures_dict という辞書型の変数に格納してください。"
   ]
  },
  {
   "cell_type": "code",
   "execution_count": 30,
   "metadata": {},
   "outputs": [],
   "source": [
    "# GoogleDriveをMount\n",
    "\n",
    "# カレントディレクトリを変更。作成したショーットカット名を使ってパスを指定します。\n",
    "\n",
    "# ファイルを読み込みながら辞書型で取得\n",
    "prefectures_dict = {} # この辞書型の変数に格納する形でプログラムを作成してください\n",
    "with open(PREFECTURES_PATH, mode=\"r\", encoding=\"utf_8\") as f:\n",
    "    prefectures_all = f.readlines()\n",
    "    for prefecture1 in prefectures_all:\n",
    "        prefecture_id, name = prefecture1.split()\n",
    "        prefectures_dict[int(prefecture_id)] = name"
   ]
  },
  {
   "cell_type": "markdown",
   "metadata": {},
   "source": [
    "## 02. 読み込んだ辞書型の変数を表示(1.5点)\n",
    "- 変数を表示するだけのプログラムを書いておきますので、プログラムを修正せずにIDと名前が出力されれば正解です\n",
    "  - 都道府県IDはこの時点でintに変換しておきましょう"
   ]
  },
  {
   "cell_type": "code",
   "execution_count": 31,
   "metadata": {
    "scrolled": true
   },
   "outputs": [
    {
     "data": {
      "text/plain": [
       "{1: '北海道',\n",
       " 2: '青森県',\n",
       " 3: '岩手県',\n",
       " 4: '宮城県',\n",
       " 5: '秋田県',\n",
       " 6: '山形県',\n",
       " 7: '福島県',\n",
       " 8: '茨城県',\n",
       " 9: '栃木県',\n",
       " 10: '群馬県',\n",
       " 11: '埼玉県',\n",
       " 12: '千葉県',\n",
       " 13: '東京都',\n",
       " 14: '神奈川県',\n",
       " 15: '新潟県',\n",
       " 16: '富山県',\n",
       " 17: '石川県',\n",
       " 18: '福井県',\n",
       " 19: '山梨県',\n",
       " 20: '長野県',\n",
       " 21: '岐阜県',\n",
       " 22: '静岡県',\n",
       " 23: '愛知県',\n",
       " 24: '三重県',\n",
       " 25: '滋賀県',\n",
       " 26: '京都府',\n",
       " 27: '大阪府',\n",
       " 28: '兵庫県',\n",
       " 29: '奈良県',\n",
       " 30: '和歌山県',\n",
       " 31: '鳥取県',\n",
       " 32: '島根県',\n",
       " 33: '岡山県',\n",
       " 34: '広島県',\n",
       " 35: '山口県',\n",
       " 36: '徳島県',\n",
       " 37: '香川県',\n",
       " 38: '愛媛県',\n",
       " 39: '高知県',\n",
       " 40: '福岡県',\n",
       " 41: '佐賀県',\n",
       " 42: '長崎県',\n",
       " 43: '熊本県',\n",
       " 44: '大分県',\n",
       " 45: '宮崎県',\n",
       " 46: '鹿児島県',\n",
       " 47: '沖縄県'}"
      ]
     },
     "execution_count": 31,
     "metadata": {},
     "output_type": "execute_result"
    }
   ],
   "source": [
    "prefectures_dict"
   ]
  },
  {
   "cell_type": "markdown",
   "metadata": {},
   "source": [
    "## 03. ワクチン接種データクラスの定義(0.5点)\n",
    "1. Vaccinationのクラス定義\n",
    "  - 以下のインスタンス変数を持つクラスを定義しましょう\n",
    "    - day  --- 日付\n",
    "    - prefecture_name  --- 都道府県名\n",
    "    - count  --- ワクチン接種数"
   ]
  },
  {
   "cell_type": "code",
   "execution_count": 32,
   "metadata": {},
   "outputs": [],
   "source": [
    "class Vaccination:\n",
    "    def __init__(self, day, prefecture_id, count):\n",
    "        self.day = day\n",
    "        self.prefecture_name = prefectures_dict[prefecture_id]\n",
    "        self.count = count"
   ]
  },
  {
   "cell_type": "markdown",
   "metadata": {},
   "source": [
    "## 04. ワクチン接種データクラスの表示(0.5点)\n",
    "- インスタンス変数を表示するだけのプログラムを書いておきますので、プログラムを修正せずにクラス定義が表示されれば正解です\n",
    "  - 都道府県IDを指定して、都道府県名に変換して取得しておく点に気をつけましょう"
   ]
  },
  {
   "cell_type": "code",
   "execution_count": 33,
   "metadata": {},
   "outputs": [
    {
     "name": "stdout",
     "output_type": "stream",
     "text": [
      "2021-04-12\n",
      "北海道\n",
      "116\n"
     ]
    }
   ],
   "source": [
    "vaccination1 = Vaccination(\"2021-04-12\", 1,116) # 日付(2021-04-12)、北海道(都道府県ID＝1)、接種数(116件)\n",
    "print(vaccination1.day)\n",
    "print(vaccination1.prefecture_name)\n",
    "print(vaccination1.count)"
   ]
  },
  {
   "cell_type": "markdown",
   "metadata": {},
   "source": [
    "## 05. ワクチン接種データの読み込み(0.5点)\n",
    "1. GoogleDriveから ./data/vaccination.txt を読み込みましょう\n",
    "  - １行ずつ空白区切りで日付、都道府県ID、ワクチン接種数が定義されているため、Vaccinationクラスのインスタンスに読み込みましょう\n",
    "  - 読み込んだVaccinationクラスのインスタンスは vaccination_list というリスト型の変数に格納してください。"
   ]
  },
  {
   "cell_type": "code",
   "execution_count": 36,
   "metadata": {},
   "outputs": [],
   "source": [
    "# ファイルを読み込みながらVaccinationクラスをリストに取得\n",
    "vaccination_list = [] # 読み込んだVaccinationクラスのインスタンスはこのリスト型の変数に全て格納してください。\n",
    "with open(VACCINATION_PATH, mode=\"r\", encoding=\"utf_8\") as f:\n",
    "    vaccination_all = f.readlines()\n",
    "    for vaccination1 in vaccination_all:\n",
    "        day, prefecture_id, count = vaccination1.split()\n",
    "        vaccination_list.append(Vaccination(day, int(prefecture_id), int(count)))"
   ]
  },
  {
   "cell_type": "markdown",
   "metadata": {},
   "source": [
    "## 06. ワクチン接種データの表示(0.5点)\n",
    "- 全ワクチン接種データの先頭5件と終端5件を表示するだけのプログラムを書いておきますので、プログラムを修正せずにデータが表示されれば正解です"
   ]
  },
  {
   "cell_type": "code",
   "execution_count": 42,
   "metadata": {},
   "outputs": [
    {
     "name": "stdout",
     "output_type": "stream",
     "text": [
      "データ件数＝ 4760\n",
      "2021-04-12 北海道 283\n",
      "2021-04-12 群馬県 86\n",
      "2021-04-12 埼玉県 157\n",
      "2021-04-12 千葉県 18\n",
      "2021-04-12 東京都 391\n",
      "2021-07-22 秋田県 4810\n",
      "2021-07-22 山形県 2272\n",
      "2021-07-22 福島県 2716\n",
      "2021-07-22 茨城県 12630\n",
      "2021-07-22 栃木県 3231\n"
     ]
    }
   ],
   "source": [
    "print(\"データ件数＝\", len(vaccination_list))\n",
    "\n",
    "for vaccination1 in vaccination_list[:5]:\n",
    "    print(vaccination1.day, vaccination1.prefecture_name, vaccination1.count)\n",
    "\n",
    "for vaccination1 in vaccination_list[-5:]:\n",
    "    print(vaccination1.day, vaccination1.prefecture_name, vaccination1.count)"
   ]
  },
  {
   "cell_type": "markdown",
   "metadata": {},
   "source": [
    "## 07. ユーザー定義関数の作成(0.5点)\n",
    "1. 日付と都道府県名を指定したらワクチン接種数を返すユーザー定義関数を作成してください\n",
    "  - ユーザー定義関数名はgetVaccinationCountとします"
   ]
  },
  {
   "cell_type": "code",
   "execution_count": 45,
   "metadata": {},
   "outputs": [],
   "source": [
    "def getVaccinationCount(day, prefecture_name):\n",
    "    count = 0\n",
    "    for vaccination1 in vaccination_list:\n",
    "        if day == vaccination1.day and prefecture_name == vaccination1.prefecture_name:\n",
    "            count += vaccination1.count\n",
    "\n",
    "    return count"
   ]
  },
  {
   "cell_type": "markdown",
   "metadata": {},
   "source": [
    "## 08. ワクチン接種数を返すユーザー定義関数の使用(0.5点)\n",
    "- ワクチン接種数を何件か表示するだけのプログラムを書いておきますので、プログラムを修正せずに出力結果が同じであれば正解です。"
   ]
  },
  {
   "cell_type": "markdown",
   "metadata": {},
   "source": [
    "#### 検証用データの作成(解答用Notebookにのみ記載)"
   ]
  },
  {
   "cell_type": "code",
   "execution_count": 48,
   "metadata": {},
   "outputs": [
    {
     "name": "stdout",
     "output_type": "stream",
     "text": [
      "2021-06-24 45 11994\n",
      "2021-05-08 39 2966\n",
      "2021-05-12 1 8827\n",
      "2021-05-23 30 5850\n",
      "2021-05-11 39 3045\n",
      "2021-06-09 37 7967\n",
      "2021-04-19 15 370\n",
      "2021-07-09 22 32609\n",
      "2021-06-22 15 20737\n",
      "2021-04-26 16 1191\n"
     ]
    }
   ],
   "source": [
    "# 検証用データの作成\n",
    "import random\n",
    "\n",
    "# 逆辞書データ作成\n",
    "prefectures_dict_inv = {}\n",
    "for prefecture1 in prefectures_all:\n",
    "    prefecture_id, name = prefecture1.split()\n",
    "    prefectures_dict_inv[name] = int(prefecture_id)\n",
    "\n",
    "# random.sample()を使用してデータ作成\n",
    "for vaccination1 in random.sample(vaccination_list, 10):\n",
    "    print(vaccination1.day, prefectures_dict_inv[vaccination1.prefecture_name], vaccination1.count)"
   ]
  },
  {
   "cell_type": "markdown",
   "metadata": {},
   "source": [
    "#### 読み込みデータの検証"
   ]
  },
  {
   "cell_type": "code",
   "execution_count": 53,
   "metadata": {},
   "outputs": [
    {
     "name": "stdout",
     "output_type": "stream",
     "text": [
      "OK! 2021-06-24 宮崎県 11994\n",
      "OK! 2021-05-08 高知県 2966\n",
      "OK! 2021-05-12 北海道 8827\n",
      "OK! 2021-05-23 和歌山県 5850\n",
      "OK! 2021-05-11 高知県 3045\n",
      "OK! 2021-06-09 香川県 7967\n",
      "OK! 2021-04-19 新潟県 370\n",
      "OK! 2021-07-09 静岡県 32609\n",
      "OK! 2021-06-22 新潟県 20737\n",
      "OK! 2021-04-26 富山県 1191\n"
     ]
    }
   ],
   "source": [
    "# 10件表示\n",
    "validation_list = [\n",
    "    Vaccination(\"2021-06-24\", 45, 11994),\n",
    "    Vaccination(\"2021-05-08\", 39, 2966),\n",
    "    Vaccination(\"2021-05-12\", 1, 8827),\n",
    "    Vaccination(\"2021-05-23\", 30, 5850),\n",
    "    Vaccination(\"2021-05-11\", 39, 3045),\n",
    "    Vaccination(\"2021-06-09\", 37, 7967),\n",
    "    Vaccination(\"2021-04-19\", 15, 370),\n",
    "    Vaccination(\"2021-07-09\", 22, 32609),\n",
    "    Vaccination(\"2021-06-22\", 15, 20737),\n",
    "    Vaccination(\"2021-04-26\", 16, 1191),\n",
    "]\n",
    "\n",
    "for validation1 in validation_list:\n",
    "    if getVaccinationCount(validation1.day, validation1.prefecture_name) == validation1.count:\n",
    "        print('OK!', validation1.day, validation1.prefecture_name, validation1.count)\n",
    "    else:\n",
    "        print('Error!')"
   ]
  },
  {
   "cell_type": "code",
   "execution_count": 54,
   "metadata": {},
   "outputs": [],
   "source": [
    "# 全件検証\n",
    "for validation1 in vaccination_list:\n",
    "    if getVaccinationCount(validation1.day, validation1.prefecture_name) != validation1.count:\n",
    "        print('Error!', validation1.day, validation1.prefecture_name, validation1.count)"
   ]
  },
  {
   "cell_type": "markdown",
   "metadata": {},
   "source": [
    "## 09. 特定日付の都道府県ごとのワクチン接種数をsortして返すユーザー定義関数の作成(0.5点)\n",
    "1. 特定日付の都道府県名ごとのワクチン接種数をsortして返すユーザー定義関数を作成してください\n",
    "  - ユーザー定義関数名は sortPrefectureVaccinationsByDate とします"
   ]
  },
  {
   "cell_type": "code",
   "execution_count": 55,
   "metadata": {},
   "outputs": [],
   "source": [
    "def sortPrefectureVaccinationsByDate(day):\n",
    "    vaccinations_by_date = list(filter(lambda x : x.day == day, vaccination_list))\n",
    "    vaccinations_by_date.sort(key=lambda item : item.count)\n",
    "    return vaccinations_by_date"
   ]
  },
  {
   "cell_type": "markdown",
   "metadata": {},
   "source": [
    "## 10. 特定日付の都道府県ごとのワクチン接種数をsortして返すユーザー定義関数の使用(0.5点)\n",
    "- 特定日付の都道府県ごとのワクチン接種数を先頭５件と終端５件だけ表示するプログラムを書いておきますので、プログラムを修正せずに出力結果が同じであれば正解です。"
   ]
  },
  {
   "cell_type": "code",
   "execution_count": 60,
   "metadata": {},
   "outputs": [
    {
     "name": "stdout",
     "output_type": "stream",
     "text": [
      "データ件数＝ 47\n",
      "2021-06-24 鳥取県 5211\n",
      "2021-06-24 島根県 7130\n",
      "2021-06-24 高知県 7891\n",
      "2021-06-24 徳島県 7919\n",
      "2021-06-24 山梨県 8555\n",
      "2021-06-24 兵庫県 62290\n",
      "2021-06-24 埼玉県 69093\n",
      "2021-06-24 大阪府 82874\n",
      "2021-06-24 神奈川県 84367\n",
      "2021-06-24 東京都 109624\n"
     ]
    }
   ],
   "source": [
    "vaccinations2021_0624 = sortPrefectureVaccinationsByDate(\"2021-06-24\")\n",
    "print(\"データ件数＝\", len(vaccinations2021_0624))\n",
    "\n",
    "for vaccination1 in vaccinations2021_0624[:5]:\n",
    "    print(vaccination1.day, vaccination1.prefecture_name, vaccination1.count)\n",
    "for vaccination1 in vaccinations2021_0624[-5:]:\n",
    "    print(vaccination1.day, vaccination1.prefecture_name, vaccination1.count)"
   ]
  },
  {
   "cell_type": "markdown",
   "metadata": {},
   "source": [
    "## 11. 沖縄県のワクチン接種データクラスの定義(0.5点)\n",
    "1. OkinawaVaccination のクラス定義\n",
    "  - Vaccinationクラスを継承して定義しましょう\n",
    "  - 初期化メソッドはprefecture_nameは渡さずにオーバーライドして作成しましょう。\n",
    "  - スーパークラスの初期化メソッドを呼び出すようにしましょう。\n",
    "  - スーパークラスの初期化メソッドを呼び出す際には、prefecture_idは沖縄県の県IDを使用しましょう。"
   ]
  },
  {
   "cell_type": "code",
   "execution_count": 63,
   "metadata": {},
   "outputs": [],
   "source": [
    "class OkinawaVaccination(Vaccination):\n",
    "    def __init__(self, day, count): # 初期化メソッドをオーバーライド\n",
    "        super().__init__(day=day, prefecture_id=47, count=count) # スーパークラスの初期化メソッドを呼び出す"
   ]
  },
  {
   "cell_type": "markdown",
   "metadata": {},
   "source": [
    "## 12. 沖縄県のワクチン接種データクラスの表示(0.5点)\n",
    "- インスタンス変数を表示するだけのプログラムを書いておきますので、プログラムを修正せずにクラス定義が表示されれば正解です"
   ]
  },
  {
   "cell_type": "code",
   "execution_count": 64,
   "metadata": {},
   "outputs": [
    {
     "name": "stdout",
     "output_type": "stream",
     "text": [
      "2021-04-12\n",
      "沖縄県\n",
      "49\n"
     ]
    }
   ],
   "source": [
    "okinawa_vaccination1 = OkinawaVaccination(\"2021-04-12\", 49) # 日付(2021-04-12)、接種数(49件)\n",
    "print(okinawa_vaccination1.day)\n",
    "print(okinawa_vaccination1.prefecture_name)\n",
    "print(okinawa_vaccination1.count)"
   ]
  },
  {
   "cell_type": "markdown",
   "metadata": {},
   "source": [
    "## 13. 沖縄県のワクチン接種データリストの作成(0.5点)\n",
    "1. 沖縄県のワクチン接種データリストを作成し、okinawa_vaccination_list という変数に格納しましょう。"
   ]
  },
  {
   "cell_type": "code",
   "execution_count": 66,
   "metadata": {},
   "outputs": [],
   "source": [
    "okinawa_vaccination_list = []\n",
    "for vaccination1 in filter(lambda x : x.prefecture_name == \"沖縄県\", vaccination_list):\n",
    "    okinawa_vaccination_list.append(OkinawaVaccination(vaccination1.day, vaccination1.count))"
   ]
  },
  {
   "cell_type": "markdown",
   "metadata": {},
   "source": [
    "## 14. 沖縄県のワクチン接種データの表示(0.5点)\n",
    "- 沖縄県の全ワクチン接種データの先頭5件と終端5件を表示するだけのプログラムを書いておきますので、プログラムを修正せずにデータが表示されれば正解です"
   ]
  },
  {
   "cell_type": "code",
   "execution_count": 82,
   "metadata": {},
   "outputs": [
    {
     "name": "stdout",
     "output_type": "stream",
     "text": [
      "データ型＝ <class '__main__.OkinawaVaccination'>\n",
      "データ件数＝ 102\n",
      "2021-04-12 沖縄県 49\n",
      "2021-04-13 沖縄県 48\n",
      "2021-04-14 沖縄県 72\n",
      "2021-04-15 沖縄県 195\n",
      "2021-04-16 沖縄県 246\n",
      "2021-07-18 沖縄県 15058\n",
      "2021-07-19 沖縄県 6969\n",
      "2021-07-20 沖縄県 6414\n",
      "2021-07-21 沖縄県 3199\n",
      "2021-07-22 沖縄県 4619\n"
     ]
    }
   ],
   "source": [
    "print(\"データ型＝\", type(okinawa_vaccination_list[0]))\n",
    "print(\"データ件数＝\", len(okinawa_vaccination_list))\n",
    "\n",
    "for vaccination1 in okinawa_vaccination_list[:5]:\n",
    "    print(vaccination1.day, vaccination1.prefecture_name, vaccination1.count)\n",
    "for vaccination1 in okinawa_vaccination_list[-5:]:\n",
    "    print(vaccination1.day, vaccination1.prefecture_name, vaccination1.count)"
   ]
  },
  {
   "cell_type": "markdown",
   "metadata": {},
   "source": [
    "## 15. 沖縄県のワクチン接種データの書き込み(0.5点)\n",
    "1. 作成した沖縄県のワクチン接種データを ./data/okinawa_vaccination.txt に出力しましょう\n",
    "  - １行ずつ空白区切りで日付、ワクチン接種数を出力しましょう。都道府県名は不要です。"
   ]
  },
  {
   "cell_type": "code",
   "execution_count": 71,
   "metadata": {},
   "outputs": [],
   "source": [
    "# ファイル出力\n",
    "with open(OKINAWA_VACCINATION_PATH, mode=\"w\", encoding=\"utf_8\") as f:\n",
    "    for vaccination1 in okinawa_vaccination_list:\n",
    "        f.write(f\"{vaccination1.day} {vaccination1.count}\\n\")"
   ]
  },
  {
   "cell_type": "markdown",
   "metadata": {},
   "source": [
    "## 16. 沖縄県のワクチン接種データの読み込みと表示(0.5点)\n",
    "- 沖縄県の全ワクチン接種データを読み込んで、一部を表示するプログラムを書いておきます。\n",
    "- プログラムを修正せずに同じデータが表示されれば正解です"
   ]
  },
  {
   "cell_type": "code",
   "execution_count": 75,
   "metadata": {},
   "outputs": [
    {
     "name": "stdout",
     "output_type": "stream",
     "text": [
      "2021-04-12 49\n",
      "2021-04-13 48\n",
      "2021-04-14 72\n",
      "2021-04-15 195\n",
      "2021-04-16 246\n",
      "2021-07-18 15058\n",
      "2021-07-19 6969\n",
      "2021-07-20 6414\n",
      "2021-07-21 3199\n",
      "2021-07-22 4619\n"
     ]
    }
   ],
   "source": [
    "with open(OKINAWA_VACCINATION_PATH, mode=\"r\", encoding=\"utf_8\") as f:\n",
    "    okinawa_vaccinations = f.readlines()\n",
    "    for okinawa_vaccination1 in okinawa_vaccinations[:5]:\n",
    "        print(okinawa_vaccination1.rstrip())\n",
    "    for okinawa_vaccination1 in okinawa_vaccinations[-5:]:\n",
    "        print(okinawa_vaccination1.rstrip())"
   ]
  },
  {
   "cell_type": "markdown",
   "metadata": {},
   "source": [
    "## 17. Pythonモジュールの作成(0.5点)\n",
    "- 沖縄県のワクチン接種データを扱うPythonモジュール「okinawa_vaccination.py」を作成してください。\n",
    "- 作成するPythonモジュールには、日付を複数指定したら沖縄県のワクチン接種数の合計を返すユーザー定義関数を作成してください。\n",
    "  - 関数名はgetTotalVaccinationsForDates()としてください"
   ]
  },
  {
   "cell_type": "code",
   "execution_count": 76,
   "metadata": {},
   "outputs": [],
   "source": [
    "# Pythonファイルにコードを記述してください。"
   ]
  },
  {
   "cell_type": "markdown",
   "metadata": {},
   "source": [
    "## 18. Pythonモジュールの呼び出し(0.5点)\n",
    "- 作成したPythonモジュール「okinawa_vaccination.py」の関数getTotalVaccinationsForDates()を使用するプログラムを書いておきます\n",
    "- プログラムを修正せずに同じデータが表示されれば正解です"
   ]
  },
  {
   "cell_type": "code",
   "execution_count": 81,
   "metadata": {},
   "outputs": [
    {
     "name": "stdout",
     "output_type": "stream",
     "text": [
      "97\n",
      "53153\n"
     ]
    }
   ],
   "source": [
    "import importlib\n",
    "import okinawa_vaccination\n",
    "\n",
    "importlib.reload(okinawa_vaccination)\n",
    "print(okinawa_vaccination.getTotalVaccinationsForDates(['2021-04-12','2021-04-13']))\n",
    "print(okinawa_vaccination.getTotalVaccinationsForDates(['2021-07-12','2021-07-13','2021-07-14','2021-07-15','2021-07-16']))"
   ]
  },
  {
   "cell_type": "code",
   "execution_count": null,
   "metadata": {},
   "outputs": [],
   "source": []
  }
 ],
 "metadata": {
  "colab": {
   "authorship_tag": "ABX9TyMOtB7OiTVLb+yu2KoVwjto",
   "include_colab_link": true,
   "provenance": []
  },
  "kernelspec": {
   "display_name": "Python 3 (ipykernel)",
   "language": "python",
   "name": "python3"
  },
  "language_info": {
   "codemirror_mode": {
    "name": "ipython",
    "version": 3
   },
   "file_extension": ".py",
   "mimetype": "text/x-python",
   "name": "python",
   "nbconvert_exporter": "python",
   "pygments_lexer": "ipython3",
   "version": "3.10.12"
  }
 },
 "nbformat": 4,
 "nbformat_minor": 1
}
