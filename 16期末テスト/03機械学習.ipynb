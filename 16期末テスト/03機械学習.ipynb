{
 "cells": [
  {
   "cell_type": "markdown",
   "metadata": {},
   "source": [
    "<a href=\"https://colab.research.google.com/github/YasuharuSuzuki/24_programing2/blob/main/\" target=\"_parent\"><img src=\"https://colab.research.google.com/assets/colab-badge.svg\" alt=\"Open In Colab\"/></a>"
   ]
  },
  {
   "cell_type": "markdown",
   "metadata": {
    "id": "KSSJqXOosEeX"
   },
   "source": [
    "# 機械学習に関する問題"
   ]
  },
  {
   "cell_type": "markdown",
   "metadata": {
    "id": "VRQcesdKsEec"
   },
   "source": [
    "## 用語の理解を問う問題\n",
    "- 以下の問題について、正解となる選択肢を出力してください"
   ]
  },
  {
   "cell_type": "markdown",
   "metadata": {},
   "source": [
    "### 問題16 (3点)\n",
    "次のうち、回帰モデルの特徴として最も適切なものを選べ\n",
    "   1. カテゴリーを予測する\n",
    "   2. 連続的な数値を予測する\n",
    "   3. データをグループ分けする\n",
    "   4. パターンを認識する"
   ]
  },
  {
   "cell_type": "code",
   "execution_count": 1,
   "metadata": {
    "colab": {
     "base_uri": "https://localhost:8080/"
    },
    "executionInfo": {
     "elapsed": 265,
     "status": "ok",
     "timestamp": 1715146988599,
     "user": {
      "displayName": "鈴木康元",
      "userId": "15385942521303414593"
     },
     "user_tz": -540
    },
    "id": "_oiNYIaxsEed",
    "outputId": "c127d002-8e8c-45b3-d98b-c5304b00f17d"
   },
   "outputs": [],
   "source": [
    "# 正解を出力してください\n"
   ]
  },
  {
   "cell_type": "markdown",
   "metadata": {
    "id": "bP053hXUsEee"
   },
   "source": [
    "### 問題17 (3点)\n",
    "予測値と実際の値の二乗誤差の平均を取り、さらに平方根を取った指標は何と呼ばれますか？\n",
    "   1. 平均絶対誤差（MAE）\n",
    "   2. 平均二乗誤差（MSE）\n",
    "   3. 二乗平均平方根誤差（RMSE）\n",
    "   4. R-squared（決定係数）"
   ]
  },
  {
   "cell_type": "code",
   "execution_count": 2,
   "metadata": {
    "colab": {
     "base_uri": "https://localhost:8080/"
    },
    "executionInfo": {
     "elapsed": 255,
     "status": "ok",
     "timestamp": 1715147036615,
     "user": {
      "displayName": "鈴木康元",
      "userId": "15385942521303414593"
     },
     "user_tz": -540
    },
    "id": "8cg5YTLosEee",
    "outputId": "c6671804-b225-4341-ea70-8833bd5eb194"
   },
   "outputs": [],
   "source": [
    "# 正解を出力してください\n"
   ]
  },
  {
   "cell_type": "markdown",
   "metadata": {},
   "source": [
    "### 問題18 (3点)\n",
    "次のうち、分類問題の例として最も適切なものを選べ\n",
    "   1. 住宅価格の予測\n",
    "   2. 株価の予測\n",
    "   3. 顧客の購買量の予測\n",
    "   4. 顧客が商品を購入するかどうかの予測"
   ]
  },
  {
   "cell_type": "code",
   "execution_count": 12,
   "metadata": {},
   "outputs": [],
   "source": [
    "# 正解を出力してください\n"
   ]
  },
  {
   "cell_type": "markdown",
   "metadata": {
    "id": "sqzgb-X2sEef"
   },
   "source": [
    "## プログラムを書く問題\n",
    "- penguinのデータセットを使って、モデルの作成、評価を行ってください。\n",
    "\n",
    "### Penguinのデータセット\n",
    "- ペンギンの生息地、くちばしの大きさ等から、種別を推測するデータセットです。\n",
    "- `data/penguins.csv` のデータを読み込んで処理して行きましょう。\n",
    "- 各列の名称と内容は以下の通りです。([Githubの情報](https://github.com/allisonhorst/palmerpenguins?tab=readme-ov-file#about-the-data)から抜粋)\n",
    "\n",
    "| Variable | Definition | Key |\n",
    "| --- | --- | --- | \n",
    "| species | penguin species | [Chinstrap, Adélie, or Gentoo](https://github.com/allisonhorst/palmerpenguins?tab=readme-ov-file#meet-the-palmer-penguins) |\n",
    "| island | island name in the Palmer Archipelago (Antarctica) | Dream, Torgersen, or Biscoe |\n",
    "| bill_length_mm | [the culmen(bill) length (mm)](https://github.com/allisonhorst/palmerpenguins?tab=readme-ov-file#bill-dimensions) |  |\n",
    "| bill_depth_mm | [the culmen(bill) depth (mm)](https://github.com/allisonhorst/palmerpenguins?tab=readme-ov-file#bill-dimensions) |\n",
    "| flipper_length_mm | flipper length (mm) | |\n",
    "| body_mass_g | body mass (g) |\n",
    "| sex | penguin sex | |\n"
   ]
  },
  {
   "cell_type": "markdown",
   "metadata": {},
   "source": [
    "### 問題19 モデルの作成 (9点)\n",
    "- データセットを読み込み、欠損値の処理やカテゴリカル変数の対策を行って、モデルを作成してみましょう\n",
    "  - データセットの読み込み（02pandas.ipynbと同じプログラムで大丈夫です）\n",
    "  - 欠損値の対策（02pandas.ipynbと同じプログラムで大丈夫です）\n",
    "  - カテゴリカル変数の対策\n",
    "  - 説明変数と目的変数に分ける\n",
    "  - モデルを学習する（学習に使用するモデルは何でも良いです。例：SVC、RandomForestClassifierなど）"
   ]
  },
  {
   "cell_type": "code",
   "execution_count": 4,
   "metadata": {},
   "outputs": [],
   "source": [
    "# ライブラリのimport\n"
   ]
  },
  {
   "cell_type": "code",
   "execution_count": null,
   "metadata": {
    "colab": {
     "base_uri": "https://localhost:8080/"
    },
    "executionInfo": {
     "elapsed": 440,
     "status": "ok",
     "timestamp": 1715147253788,
     "user": {
      "displayName": "鈴木康元",
      "userId": "15385942521303414593"
     },
     "user_tz": -540
    },
    "id": "l8NxqEh3sEef",
    "outputId": "82144241-b18d-429f-a4c6-e2ba9b680e47"
   },
   "outputs": [],
   "source": [
    "# drive.mount()を使用してGoogleDriveをMount\n"
   ]
  },
  {
   "cell_type": "code",
   "execution_count": null,
   "metadata": {},
   "outputs": [],
   "source": [
    "# os.chdir()を使用してカレントディレクトリを変更。作成したショーットカット名を使ってパスを指定します。\n"
   ]
  },
  {
   "cell_type": "code",
   "execution_count": 6,
   "metadata": {},
   "outputs": [],
   "source": [
    "# データファイルパス定義\n"
   ]
  },
  {
   "cell_type": "code",
   "execution_count": 3,
   "metadata": {},
   "outputs": [],
   "source": [
    "# read_csvを使ってcsvを読み込みます\n"
   ]
  },
  {
   "cell_type": "code",
   "execution_count": 4,
   "metadata": {},
   "outputs": [],
   "source": [
    "# 欠損値対策\n"
   ]
  },
  {
   "cell_type": "code",
   "execution_count": 5,
   "metadata": {},
   "outputs": [],
   "source": [
    "# 欠損値が無くなったことを確認しましょう\n"
   ]
  },
  {
   "cell_type": "code",
   "execution_count": 6,
   "metadata": {},
   "outputs": [],
   "source": [
    "# カテゴリカル変数の対策\n"
   ]
  },
  {
   "cell_type": "code",
   "execution_count": 7,
   "metadata": {},
   "outputs": [],
   "source": [
    "# 説明変数と目的変数に分ける\n"
   ]
  },
  {
   "cell_type": "code",
   "execution_count": 8,
   "metadata": {},
   "outputs": [],
   "source": [
    "# 訓練データとテストデータに分割する\n"
   ]
  },
  {
   "cell_type": "code",
   "execution_count": 9,
   "metadata": {},
   "outputs": [],
   "source": [
    "# 学習する\n"
   ]
  },
  {
   "cell_type": "markdown",
   "metadata": {},
   "source": [
    "### 問題20 モデルの評価 (12点)\n",
    "- 以下のいずれかの評価を少なくとも２つ行って、それぞれに最低１つの簡単な考察をつけてみましょう\n",
    "  - 正答率と誤った個数を算出する\n",
    "  - classification reportを作成する\n",
    "  - 混合行列(confusion matrix)を表示する\n",
    "  - FeatureImportanceを表示する(決定木系のモデルでしか使用できません)"
   ]
  },
  {
   "cell_type": "code",
   "execution_count": 10,
   "metadata": {},
   "outputs": [],
   "source": [
    "# モデルの評価1"
   ]
  },
  {
   "cell_type": "markdown",
   "metadata": {},
   "source": [
    "- (考察を書きましょう)"
   ]
  },
  {
   "cell_type": "code",
   "execution_count": 11,
   "metadata": {},
   "outputs": [],
   "source": [
    "# モデルの評価2\n"
   ]
  },
  {
   "cell_type": "markdown",
   "metadata": {},
   "source": [
    "- (考察を書きましょう)"
   ]
  },
  {
   "cell_type": "markdown",
   "metadata": {},
   "source": [
    "---\n",
    "---\n",
    "---\n",
    "---\n",
    "---"
   ]
  },
  {
   "cell_type": "code",
   "execution_count": null,
   "metadata": {
    "id": "iImoZwTasEem"
   },
   "outputs": [],
   "source": []
  }
 ],
 "metadata": {
  "colab": {
   "provenance": [
    {
     "file_id": "https://github.com/YasuharuSuzuki/24_programing2/blob/main/04%E8%BE%9E%E6%9B%B8/01%E8%BE%9E%E6%9B%B8%E3%82%92%E4%BD%9C%E3%82%8B.ipynb",
     "timestamp": 1715146358060
    }
   ]
  },
  "kernelspec": {
   "display_name": "Python 3 (ipykernel)",
   "language": "python",
   "name": "python3"
  },
  "language_info": {
   "codemirror_mode": {
    "name": "ipython",
    "version": 3
   },
   "file_extension": ".py",
   "mimetype": "text/x-python",
   "name": "python",
   "nbconvert_exporter": "python",
   "pygments_lexer": "ipython3",
   "version": "3.11.9"
  }
 },
 "nbformat": 4,
 "nbformat_minor": 4
}
