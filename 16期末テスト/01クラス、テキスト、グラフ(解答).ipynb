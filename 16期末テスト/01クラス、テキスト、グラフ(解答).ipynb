{
 "cells": [
  {
   "cell_type": "markdown",
   "metadata": {},
   "source": [
    "<a href=\"https://colab.research.google.com/github/YasuharuSuzuki/24_programing2/blob/main/\" target=\"_parent\"><img src=\"https://colab.research.google.com/assets/colab-badge.svg\" alt=\"Open In Colab\"/></a>"
   ]
  },
  {
   "cell_type": "markdown",
   "metadata": {
    "id": "KSSJqXOosEeX"
   },
   "source": [
    "# クラスの継承・プロパティの利用に関する問題"
   ]
  },
  {
   "cell_type": "markdown",
   "metadata": {
    "id": "VRQcesdKsEec"
   },
   "source": [
    "## 用語の理解を問う問題\n",
    "- 以下の問題について、正解となる選択肢を出力してください"
   ]
  },
  {
   "cell_type": "markdown",
   "metadata": {},
   "source": [
    "### 問題1 (3点)\n",
    "- Pythonで、あるクラスから別のクラスを作成し、元のクラスの属性やメソッドを引き継ぐ機能を何と呼びますか？\n",
    "    1. オーバーライド\n",
    "    2. カプセル化\n",
    "    3. 継承\n",
    "    4. ポリモーフィズム"
   ]
  },
  {
   "cell_type": "code",
   "execution_count": 1,
   "metadata": {
    "colab": {
     "base_uri": "https://localhost:8080/"
    },
    "executionInfo": {
     "elapsed": 265,
     "status": "ok",
     "timestamp": 1715146988599,
     "user": {
      "displayName": "鈴木康元",
      "userId": "15385942521303414593"
     },
     "user_tz": -540
    },
    "id": "_oiNYIaxsEed",
    "outputId": "c127d002-8e8c-45b3-d98b-c5304b00f17d"
   },
   "outputs": [
    {
     "name": "stdout",
     "output_type": "stream",
     "text": [
      "3\n"
     ]
    }
   ],
   "source": [
    "# 正解を出力してください\n",
    "print('3') # 継承は、あるクラスから別のクラスを作成し、元のクラスの属性やメソッドを引き継ぐ機能です。"
   ]
  },
  {
   "cell_type": "markdown",
   "metadata": {
    "id": "bP053hXUsEee"
   },
   "source": [
    "### 問題2 (3点)\n",
    "- プロパティの setter メソッドを定義するためのデコレータは何ですか？\n",
    "  1. @setter\n",
    "  2. @property\n",
    "  3. @getter\n",
    "  4. @staticmethod"
   ]
  },
  {
   "cell_type": "code",
   "execution_count": 2,
   "metadata": {
    "colab": {
     "base_uri": "https://localhost:8080/"
    },
    "executionInfo": {
     "elapsed": 255,
     "status": "ok",
     "timestamp": 1715147036615,
     "user": {
      "displayName": "鈴木康元",
      "userId": "15385942521303414593"
     },
     "user_tz": -540
    },
    "id": "8cg5YTLosEee",
    "outputId": "c6671804-b225-4341-ea70-8833bd5eb194"
   },
   "outputs": [
    {
     "name": "stdout",
     "output_type": "stream",
     "text": [
      "1\n"
     ]
    }
   ],
   "source": [
    "# 正解を出力してください\n",
    "print('1')  #  @setter デコレータは、プロパティの setter メソッドを定義するために使用されます。通常、@property.setter の形で使用されます。"
   ]
  },
  {
   "cell_type": "markdown",
   "metadata": {
    "id": "sqzgb-X2sEef"
   },
   "source": [
    "## 簡単なプログラムを書く問題"
   ]
  },
  {
   "cell_type": "markdown",
   "metadata": {},
   "source": [
    "### 問題3 (10点)\n",
    "以下のプログラムを修正して、華氏（fahrenheit）が出力されるようにして下さい。\n",
    "なお、摂氏（celsius）から華氏を計算する式は以下の通りです\n",
    "\n",
    "```\n",
    "[°F] = [°C] × 9 ÷ 5 + 32\n",
    "```"
   ]
  },
  {
   "cell_type": "code",
   "execution_count": 3,
   "metadata": {
    "colab": {
     "base_uri": "https://localhost:8080/"
    },
    "executionInfo": {
     "elapsed": 440,
     "status": "ok",
     "timestamp": 1715147253788,
     "user": {
      "displayName": "鈴木康元",
      "userId": "15385942521303414593"
     },
     "user_tz": -540
    },
    "id": "l8NxqEh3sEef",
    "outputId": "82144241-b18d-429f-a4c6-e2ba9b680e47"
   },
   "outputs": [
    {
     "name": "stdout",
     "output_type": "stream",
     "text": [
      "fahrenheit=77.0\n"
     ]
    }
   ],
   "source": [
    "class Temperature:\n",
    "    def __init__(self, celsius=15):\n",
    "        self._celsius = celsius\n",
    "\n",
    "    @property\n",
    "    def celsius(self):\n",
    "        return self._celsius\n",
    "\n",
    "    @celsius.setter\n",
    "    def celsius(self, value):\n",
    "        if value < -273.15:\n",
    "            raise ValueError(\"温度は絶対零度より低くできません。\")\n",
    "        self._celsius = value\n",
    "\n",
    "    @property\n",
    "    def fahrenheit(self):\n",
    "        return (self.celsius * 9/5) + 32\n",
    "\n",
    "# インスタンスの作成と使用\n",
    "temp = Temperature(15)\n",
    "temp.celsius = temp.celsius + 10\n",
    "print(f\"fahrenheit={temp.fahrenheit}\")"
   ]
  },
  {
   "cell_type": "markdown",
   "metadata": {},
   "source": [
    "---\n",
    "---\n",
    "---\n",
    "---\n",
    "---"
   ]
  },
  {
   "cell_type": "markdown",
   "metadata": {},
   "source": [
    "# テキストファイルの読み込み、書き出しに関する問題"
   ]
  },
  {
   "cell_type": "markdown",
   "metadata": {},
   "source": [
    "## 用語の理解を問う問題\n",
    "- 以下の問題について、正解となる選択肢を出力してください\n",
    "\n",
    "\n",
    "### 問題4 (3点)\n",
    "- ファイルを読み込み専用モードで開くときに使用するモード文字は何ですか？\n",
    "    1. w\n",
    "    2. a\n",
    "    3. r\n",
    "    4. x"
   ]
  },
  {
   "cell_type": "code",
   "execution_count": 4,
   "metadata": {},
   "outputs": [
    {
     "name": "stdout",
     "output_type": "stream",
     "text": [
      "3\n"
     ]
    }
   ],
   "source": [
    "# 正解を出力してください\n",
    "print('3') # 'r' モードは read（読み込み）の略で、ファイルを読み込み専用で開きます。このモードではファイルの内容を読むことはできますが、書き込みはできません。"
   ]
  },
  {
   "cell_type": "markdown",
   "metadata": {},
   "source": [
    "## 簡単なプログラムを書く問題"
   ]
  },
  {
   "cell_type": "markdown",
   "metadata": {},
   "source": [
    "### 問題5 (10点)\n",
    "`data/tsuretsure.txt` に以下の文章を出力するプログラムを書いてください\n",
    "\n",
    "```\n",
    "つれづれなるままに、日暮らし硯に向かひて、\n",
    "心にうつりゆくよしなしごとを、そこはかとなく書きつくれば、\n",
    "あやしうこそものぐるほしけれ。\n",
    "```"
   ]
  },
  {
   "cell_type": "code",
   "execution_count": null,
   "metadata": {},
   "outputs": [],
   "source": [
    "# drive.mount()を使用してGoogleDriveをMount\n",
    "from google.colab import drive\n",
    "drive.mount('/content/drive')"
   ]
  },
  {
   "cell_type": "code",
   "execution_count": null,
   "metadata": {},
   "outputs": [],
   "source": [
    "# os.chdir()を使用してカレントディレクトリを変更。作成したショーットカット名を使ってパスを指定します。\n",
    "import os\n",
    "os.chdir('/content/drive/MyDrive/＜作成したショートカット名＞')"
   ]
  },
  {
   "cell_type": "code",
   "execution_count": 6,
   "metadata": {},
   "outputs": [],
   "source": [
    "# ./data/以下の書き込むファイルパスを指定\n",
    "file_path = \"./data/tsuretsure.txt\"\n",
    "text = \"\"\"つれづれなるままに、日暮らし硯に向かひて、\n",
    "心にうつりゆくよしなしごとを、そこはかとなく書きつくれば、\n",
    "あやしうこそものぐるほしけれ。\n",
    "\"\"\"\n",
    "\n",
    "# ファイルへ文字列を書き込みます\n",
    "with open(file_path, \"w\", encoding=\"utf_8\") as fileobj:\n",
    "    fileobj.write(text)"
   ]
  },
  {
   "cell_type": "markdown",
   "metadata": {},
   "source": [
    "---\n",
    "---\n",
    "---\n",
    "---\n",
    "---"
   ]
  },
  {
   "cell_type": "markdown",
   "metadata": {},
   "source": [
    "# グラフに関する問題"
   ]
  },
  {
   "cell_type": "markdown",
   "metadata": {},
   "source": [
    "## 用語の理解を問う問題\n",
    "- 以下の問題について、正解となる選択肢を出力してください\n",
    "\n",
    "### 問題6 (3点)\n",
    "- matplotlibを使用して、折れ線グラフを作成する関数を選んでください\n",
    "    1. plt.bar()\n",
    "    2. plt.plot()\n",
    "    3. plt.scatter()\n",
    "    4. plt.hist()"
   ]
  },
  {
   "cell_type": "code",
   "execution_count": 7,
   "metadata": {},
   "outputs": [
    {
     "name": "stdout",
     "output_type": "stream",
     "text": [
      "2\n"
     ]
    }
   ],
   "source": [
    "# 正解を出力してください\n",
    "print('2') # plt.plot()関数は、Matplotlibで折れ線グラフを作成するために使用されます。"
   ]
  },
  {
   "cell_type": "markdown",
   "metadata": {},
   "source": [
    "### 問題7 (3点)\n",
    "- グラフにタイトルを追加するための関数を選んでください\n",
    "    1. plt.title()\n",
    "    2. plt.label()\n",
    "    3. plt.name()\n",
    "    4. plt.header()"
   ]
  },
  {
   "cell_type": "code",
   "execution_count": 8,
   "metadata": {},
   "outputs": [
    {
     "name": "stdout",
     "output_type": "stream",
     "text": [
      "1\n"
     ]
    }
   ],
   "source": [
    "# 正解を出力してください\n",
    "print('1') # plt.title()関数は、グラフにタイトルを追加するために使用されます。"
   ]
  },
  {
   "cell_type": "markdown",
   "metadata": {},
   "source": [
    "### 問題8 (3点)\n",
    "- 以下のグラフの種類を選べ\n",
    "    1. 円グラフ\n",
    "    2. 棒グラフ\n",
    "    3. 散布図\n",
    "    4. 折れ線グラフ\n",
    "\n",
    "![グラフ](data/image01.png)"
   ]
  },
  {
   "cell_type": "code",
   "execution_count": 9,
   "metadata": {},
   "outputs": [
    {
     "name": "stdout",
     "output_type": "stream",
     "text": [
      "3\n"
     ]
    }
   ],
   "source": [
    "# 正解を出力してください\n",
    "print('3')"
   ]
  },
  {
   "cell_type": "markdown",
   "metadata": {},
   "source": [
    "## 簡単なプログラムを書く問題"
   ]
  },
  {
   "cell_type": "markdown",
   "metadata": {},
   "source": [
    "### 問題9 (10点)\n",
    "以下の要件を満たすPythonプログラムを作成してください。\n",
    "\n",
    "1. 以下のデータを使用して散布図を作成してください：  \n",
    "   - x軸のデータとして、1から10までの整数を使用する。\n",
    "   - y軸のデータとして、x軸の各値の2乗を使用する。\n",
    "   \n",
    "2. グラフには以下の要素を含めてください：  \n",
    "   - 散布図のタイトルを「X vs X^2 Scatter Plot」とする。\n",
    "   - x軸のラベルを「X」、y軸のラベルを「X^2」とする。\n",
    "   - グリッドを表示する\n",
    "\n",
    "3. グラフを表示してください。\n",
    "\n",
    "ヒント：\n",
    "- Matplotlibライブラリを使用しましょう。\n"
   ]
  },
  {
   "cell_type": "code",
   "execution_count": 11,
   "metadata": {
    "id": "M502lp_JsEem"
   },
   "outputs": [
    {
     "data": {
      "image/png": "[encoded data removed]",
      "text/plain": [
       "<Figure size 1000x600 with 1 Axes>"
      ]
     },
     "metadata": {},
     "output_type": "display_data"
    }
   ],
   "source": [
    "# ライブラリのimport\n",
    "import matplotlib.pyplot as plt\n",
    "\n",
    "# データの生成\n",
    "x = list(range(1, 11))\n",
    "y = [i**2 for i in x]\n",
    "\n",
    "# 散布図の作成\n",
    "plt.figure(figsize=(10, 6))\n",
    "plt.scatter(x, y, color='blue')\n",
    "\n",
    "# タイトルと軸ラベルの設定\n",
    "plt.title('X vs X^2 Scatter Plot')\n",
    "plt.xlabel('X')\n",
    "plt.ylabel('X^2')\n",
    "\n",
    "# グリッドの表示\n",
    "plt.grid(True)\n",
    "\n",
    "# グラフの表示\n",
    "plt.show()"
   ]
  },
  {
   "cell_type": "code",
   "execution_count": null,
   "metadata": {
    "id": "iImoZwTasEem"
   },
   "outputs": [],
   "source": []
  }
 ],
 "metadata": {
  "colab": {
   "provenance": [
    {
     "file_id": "https://github.com/YasuharuSuzuki/24_programing2/blob/main/04%E8%BE%9E%E6%9B%B8/01%E8%BE%9E%E6%9B%B8%E3%82%92%E4%BD%9C%E3%82%8B.ipynb",
     "timestamp": 1715146358060
    }
   ]
  },
  "kernelspec": {
   "display_name": "Python 3 (ipykernel)",
   "language": "python",
   "name": "python3"
  },
  "language_info": {
   "codemirror_mode": {
    "name": "ipython",
    "version": 3
   },
   "file_extension": ".py",
   "mimetype": "text/x-python",
   "name": "python",
   "nbconvert_exporter": "python",
   "pygments_lexer": "ipython3",
   "version": "3.11.9"
  }
 },
 "nbformat": 4,
 "nbformat_minor": 4
}
