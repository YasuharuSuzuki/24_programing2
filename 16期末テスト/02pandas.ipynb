{
 "cells": [
  {
   "cell_type": "markdown",
   "metadata": {},
   "source": [
    "<a href=\"https://colab.research.google.com/github/YasuharuSuzuki/24_programing2/blob/main/\" target=\"_parent\"><img src=\"https://colab.research.google.com/assets/colab-badge.svg\" alt=\"Open In Colab\"/></a>"
   ]
  },
  {
   "cell_type": "markdown",
   "metadata": {
    "id": "KSSJqXOosEeX"
   },
   "source": [
    "# pandasに関する問題"
   ]
  },
  {
   "cell_type": "markdown",
   "metadata": {
    "id": "VRQcesdKsEec"
   },
   "source": [
    "## 用語の理解を問う問題\n",
    "- 以下の問題について、正解となる選択肢を出力してください"
   ]
  },
  {
   "cell_type": "markdown",
   "metadata": {},
   "source": [
    "### 問題10 (3点)\n",
    "- Pandasで2次元のラベル付きデータ構造を表すものを選べ\n",
    "    1. Matrix\n",
    "    2. Table\n",
    "    3. DataFrame\n",
    "    4. Grid"
   ]
  },
  {
   "cell_type": "code",
   "execution_count": 1,
   "metadata": {
    "colab": {
     "base_uri": "https://localhost:8080/"
    },
    "executionInfo": {
     "elapsed": 265,
     "status": "ok",
     "timestamp": 1715146988599,
     "user": {
      "displayName": "鈴木康元",
      "userId": "15385942521303414593"
     },
     "user_tz": -540
    },
    "id": "_oiNYIaxsEed",
    "outputId": "c127d002-8e8c-45b3-d98b-c5304b00f17d"
   },
   "outputs": [],
   "source": [
    "# 正解を出力してください\n"
   ]
  },
  {
   "cell_type": "markdown",
   "metadata": {
    "id": "bP053hXUsEee"
   },
   "source": [
    "### 問題11 (3点)\n",
    "- Pandasで2次元のラベル付きデータ構造から特定の列を選択する際によく使用される記法を選べ\n",
    "  1. df{'column_name'}\n",
    "  2. df['column_name']\n",
    "  3. df('column_name')\n",
    "  4. df-column_name"
   ]
  },
  {
   "cell_type": "code",
   "execution_count": 2,
   "metadata": {
    "colab": {
     "base_uri": "https://localhost:8080/"
    },
    "executionInfo": {
     "elapsed": 255,
     "status": "ok",
     "timestamp": 1715147036615,
     "user": {
      "displayName": "鈴木康元",
      "userId": "15385942521303414593"
     },
     "user_tz": -540
    },
    "id": "8cg5YTLosEee",
    "outputId": "c6671804-b225-4341-ea70-8833bd5eb194"
   },
   "outputs": [],
   "source": [
    "# 正解を出力してください\n"
   ]
  },
  {
   "cell_type": "markdown",
   "metadata": {
    "id": "sqzgb-X2sEef"
   },
   "source": [
    "## プログラムを書く問題\n",
    "- penguinのデータセットを使って、データの読み込み、データの確認、データの可視化を行ってください。\n",
    "\n",
    "### Penguinのデータセット\n",
    "- ペンギンの生息地、くちばしの大きさ等から、種別を推測するデータセットです。\n",
    "- `data/penguins.csv` のデータを読み込んで処理して行きましょう。\n",
    "- 各列の名称と内容は以下の通りです。([Githubの情報](https://github.com/allisonhorst/palmerpenguins?tab=readme-ov-file#about-the-data)から抜粋)\n",
    "\n",
    "| Variable | Definition | Key |\n",
    "| --- | --- | --- | \n",
    "| species | penguin species | [Chinstrap, Adélie, or Gentoo](https://github.com/allisonhorst/palmerpenguins?tab=readme-ov-file#meet-the-palmer-penguins) |\n",
    "| island | island name in the Palmer Archipelago (Antarctica) | Dream, Torgersen, or Biscoe |\n",
    "| bill_length_mm | [the culmen(bill) length (mm)](https://github.com/allisonhorst/palmerpenguins?tab=readme-ov-file#bill-dimensions) |  |\n",
    "| bill_depth_mm | [the culmen(bill) depth (mm)](https://github.com/allisonhorst/palmerpenguins?tab=readme-ov-file#bill-dimensions) |\n",
    "| flipper_length_mm | flipper length (mm) | |\n",
    "| body_mass_g | body mass (g) |\n",
    "| sex | penguin sex | |"
   ]
  },
  {
   "cell_type": "markdown",
   "metadata": {},
   "source": [
    "### 問題12 ペンギンデータセットを読み込む (6点)"
   ]
  },
  {
   "cell_type": "code",
   "execution_count": 3,
   "metadata": {},
   "outputs": [],
   "source": [
    "# ライブラリのimport\n"
   ]
  },
  {
   "cell_type": "code",
   "execution_count": 4,
   "metadata": {
    "colab": {
     "base_uri": "https://localhost:8080/"
    },
    "executionInfo": {
     "elapsed": 440,
     "status": "ok",
     "timestamp": 1715147253788,
     "user": {
      "displayName": "鈴木康元",
      "userId": "15385942521303414593"
     },
     "user_tz": -540
    },
    "id": "l8NxqEh3sEef",
    "outputId": "82144241-b18d-429f-a4c6-e2ba9b680e47"
   },
   "outputs": [],
   "source": [
    "# drive.mount()を使用してGoogleDriveをMount\n"
   ]
  },
  {
   "cell_type": "code",
   "execution_count": 5,
   "metadata": {},
   "outputs": [],
   "source": [
    "# os.chdir()を使用してカレントディレクトリを変更。作成したショーットカット名を使ってパスを指定します。\n"
   ]
  },
  {
   "cell_type": "code",
   "execution_count": 6,
   "metadata": {},
   "outputs": [],
   "source": [
    "# データファイルパス定義\n"
   ]
  },
  {
   "cell_type": "code",
   "execution_count": 7,
   "metadata": {},
   "outputs": [],
   "source": [
    "# read_csvを使ってcsvを読み込みます\n"
   ]
  },
  {
   "cell_type": "markdown",
   "metadata": {},
   "source": [
    "### 問題13 読み込んだDataFrameを確認(12点)\n",
    "- 以下のいずれかの確認作業を少なくとも３つ行って、それぞれに最低１つの簡単な考察をつけてみましょう\n",
    "  - ざっと眺める\n",
    "  - カテゴリカル変数の確認\n",
    "  - 行数、列数、データ型、欠損値の確認\n",
    "  - 基本統計量の確認"
   ]
  },
  {
   "cell_type": "code",
   "execution_count": 8,
   "metadata": {},
   "outputs": [],
   "source": [
    "# DataFrameの確認１\n"
   ]
  },
  {
   "cell_type": "markdown",
   "metadata": {},
   "source": [
    "- （考察を付けましょう）"
   ]
  },
  {
   "cell_type": "code",
   "execution_count": 9,
   "metadata": {},
   "outputs": [],
   "source": [
    "# DataFrameの確認２\n"
   ]
  },
  {
   "cell_type": "markdown",
   "metadata": {},
   "source": [
    "- （考察を付けましょう）"
   ]
  },
  {
   "cell_type": "code",
   "execution_count": 10,
   "metadata": {},
   "outputs": [],
   "source": [
    "# DataFrameの確認３\n"
   ]
  },
  {
   "cell_type": "markdown",
   "metadata": {},
   "source": [
    "- （考察を付けましょう）"
   ]
  },
  {
   "cell_type": "markdown",
   "metadata": {},
   "source": [
    "### 問題14 欠損値の対策(6点)\n",
    "- 欠損値の対策をしましょう"
   ]
  },
  {
   "cell_type": "code",
   "execution_count": 17,
   "metadata": {},
   "outputs": [],
   "source": [
    "# 欠損値対策\n",
    "\n"
   ]
  },
  {
   "cell_type": "code",
   "execution_count": 11,
   "metadata": {},
   "outputs": [],
   "source": [
    "# 欠損値が無くなったことを確認しましょう\n"
   ]
  },
  {
   "cell_type": "markdown",
   "metadata": {},
   "source": [
    "### 問題15 DataFrameの可視化(12点)\n",
    "- 以下のいずれかの可視化を少なくとも２つ行って、それぞれに最低１つの簡単な考察をつけてみましょう\n",
    "  - 棒グラフの表示\n",
    "  - 散布図の表示\n",
    "  - 箱ひげ図の表示\n",
    "  - ヒストグラムの表示\n",
    "  - 相関係数の表示\n",
    "  - 多変量連関図の表示"
   ]
  },
  {
   "cell_type": "code",
   "execution_count": 12,
   "metadata": {},
   "outputs": [],
   "source": [
    "# 可視化１\n"
   ]
  },
  {
   "cell_type": "markdown",
   "metadata": {},
   "source": [
    "- （考察を付けましょう）"
   ]
  },
  {
   "cell_type": "code",
   "execution_count": 13,
   "metadata": {},
   "outputs": [],
   "source": [
    "# 可視化２\n"
   ]
  },
  {
   "cell_type": "markdown",
   "metadata": {},
   "source": [
    "- （考察を付けましょう）"
   ]
  },
  {
   "cell_type": "markdown",
   "metadata": {},
   "source": [
    "---\n",
    "---\n",
    "---\n",
    "---\n",
    "---"
   ]
  },
  {
   "cell_type": "code",
   "execution_count": null,
   "metadata": {
    "id": "iImoZwTasEem"
   },
   "outputs": [],
   "source": []
  }
 ],
 "metadata": {
  "colab": {
   "provenance": [
    {
     "file_id": "https://github.com/YasuharuSuzuki/24_programing2/blob/main/04%E8%BE%9E%E6%9B%B8/01%E8%BE%9E%E6%9B%B8%E3%82%92%E4%BD%9C%E3%82%8B.ipynb",
     "timestamp": 1715146358060
    }
   ]
  },
  "kernelspec": {
   "display_name": "Python 3 (ipykernel)",
   "language": "python",
   "name": "python3"
  },
  "language_info": {
   "codemirror_mode": {
    "name": "ipython",
    "version": 3
   },
   "file_extension": ".py",
   "mimetype": "text/x-python",
   "name": "python",
   "nbconvert_exporter": "python",
   "pygments_lexer": "ipython3",
   "version": "3.11.9"
  }
 },
 "nbformat": 4,
 "nbformat_minor": 4
}
